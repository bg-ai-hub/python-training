{
 "cells": [
  {
   "cell_type": "code",
   "execution_count": 1,
   "id": "ea35daff",
   "metadata": {},
   "outputs": [
    {
     "data": {
      "text/plain": [
       "'\\n__add__(self, other) : Addition operator (+)\\n__sub__(self, other) : Subtraction operator (-)\\n__mul__(self, other) : Multiplication operator (*)\\n__truediv__(self, other) : Division operator (/)\\n__floordiv__(self, other) : Floor division operator (//)\\n__mod__(self, other) : Modulus operator (%)\\n__pow__(self, other) : Exponentiation operator (**)\\n__lt__(self, other) : Less than operator (<)\\n__le__(self, other) : Less than or equal to operator (<=)\\n__eq__(self, other) : Equal to operator (==)\\n__ne__(self, other) : Not equal to operator (!=)\\n__gt__(self, other) : Greater than operator (>)\\n__ge__(self, other) : Greater than or equal to operator (>=)\\n'"
      ]
     },
     "execution_count": 1,
     "metadata": {},
     "output_type": "execute_result"
    }
   ],
   "source": [
    "## Operator overloading in python\n",
    "# Operator overloading is a feature in Python that allows you to define the behavior of operators\n",
    "# for user-defined classes. This means you can specify how operators like +, -, *, /, etc. behave\n",
    "# when applied to instances of your classes. This is done by defining special methods in your class\n",
    "'''\n",
    "__add__(self, other) : Addition operator (+)\n",
    "__sub__(self, other) : Subtraction operator (-)\n",
    "__mul__(self, other) : Multiplication operator (*)\n",
    "__truediv__(self, other) : Division operator (/)\n",
    "__floordiv__(self, other) : Floor division operator (//)\n",
    "__mod__(self, other) : Modulus operator (%)\n",
    "__pow__(self, other) : Exponentiation operator (**)\n",
    "__lt__(self, other) : Less than operator (<)\n",
    "__le__(self, other) : Less than or equal to operator (<=)\n",
    "__eq__(self, other) : Equal to operator (==)\n",
    "__ne__(self, other) : Not equal to operator (!=)\n",
    "__gt__(self, other) : Greater than operator (>)\n",
    "__ge__(self, other) : Greater than or equal to operator (>=)\n",
    "'''"
   ]
  },
  {
   "cell_type": "code",
   "execution_count": 2,
   "id": "3f454ab2",
   "metadata": {},
   "outputs": [
    {
     "name": "stdout",
     "output_type": "stream",
     "text": [
      "v1: Vector(2, 3)\n",
      "v2: Vector(4, 5)\n",
      "Addition: Vector(6, 8)\n",
      "Subtraction: Vector(-2, -2)\n",
      "Multiplication by scalar: Vector(4, 6)\n",
      "Division by scalar: Vector(1.0, 1.5)\n",
      "Power: Vector(4, 9)\n",
      "Floor Division: Vector(1, 1)\n",
      "Modulus: Vector(0, 1)\n",
      "Equality check: False\n",
      "Less than check: True\n",
      "Less than or equal to check: True\n",
      "Greater than check: False\n",
      "Greater than or equal to check: False\n",
      "Not equal to check: True\n"
     ]
    }
   ],
   "source": [
    "class Vector:\n",
    "    def __init__(self, x, y):\n",
    "        self.x = x\n",
    "        self.y = y\n",
    "\n",
    "    def __add__(self, other):\n",
    "        return Vector(self.x + other.x, self.y + other.y)\n",
    "\n",
    "    def __sub__(self, other):\n",
    "        return Vector(self.x - other.x, self.y - other.y)\n",
    "\n",
    "    def __mul__(self, scalar):\n",
    "        return Vector(self.x * scalar, self.y * scalar)\n",
    "\n",
    "    def __truediv__(self, scalar):\n",
    "        return Vector(self.x / scalar, self.y / scalar)\n",
    "\n",
    "    def __str__(self):\n",
    "        return f\"Vector({self.x}, {self.y})\"\n",
    "    \n",
    "    def __repr__(self):\n",
    "        return f\"Vector({self.x}, {self.y})\"\n",
    "    \n",
    "    def __eq__(self, other):\n",
    "        return self.x == other.x and self.y == other.y\n",
    "    \n",
    "    def __lt__(self, other):\n",
    "        return self.x < other.x and self.y < other.y\n",
    "    \n",
    "    def __le__(self, other):\n",
    "        return self.x <= other.x and self.y <= other.y\n",
    "    \n",
    "    def __gt__(self, other):\n",
    "        return self.x > other.x and self.y > other.y\n",
    "    \n",
    "    def __ge__(self, other):\n",
    "        return self.x >= other.x and self.y >= other.y\n",
    "    \n",
    "    def __ne__(self, other):\n",
    "        return self.x != other.x or self.y != other.y\n",
    "    \n",
    "    def __pow__(self, scalar):\n",
    "        return Vector(self.x ** scalar, self.y ** scalar)\n",
    "    \n",
    "    def __floordiv__(self, scalar):\n",
    "        return Vector(self.x // scalar, self.y // scalar)\n",
    "    \n",
    "    def __mod__(self, scalar):\n",
    "        return Vector(self.x % scalar, self.y % scalar)\n",
    "\n",
    "# Example usage\n",
    "if __name__ == \"__main__\":\n",
    "    v1 = Vector(2, 3)\n",
    "    v2 = Vector(4, 5)\n",
    "\n",
    "    print(\"v1:\", v1)\n",
    "    print(\"v2:\", v2)\n",
    "\n",
    "    print(\"Addition:\", v1 + v2)\n",
    "    print(\"Subtraction:\", v1 - v2)\n",
    "    print(\"Multiplication by scalar:\", v1 * 2)\n",
    "    print(\"Division by scalar:\", v1 / 2)\n",
    "    print(\"Power:\", v1 ** 2)\n",
    "    print(\"Floor Division:\", v1 // 2)\n",
    "    print(\"Modulus:\", v1 % 2)\n",
    "    print(\"Equality check:\", v1 == v2)\n",
    "    print(\"Less than check:\", v1 < v2)\n",
    "    print(\"Less than or equal to check:\", v1 <= v2)\n",
    "    print(\"Greater than check:\", v1 > v2)\n",
    "    print(\"Greater than or equal to check:\", v1 >= v2)\n",
    "    print(\"Not equal to check:\", v1 != v2)\n",
    "# In this example, we define a `Vector` class that represents a 2D vector. We implement several"
   ]
  },
  {
   "cell_type": "code",
   "execution_count": null,
   "id": "92e5573d",
   "metadata": {},
   "outputs": [],
   "source": []
  }
 ],
 "metadata": {
  "kernelspec": {
   "display_name": "Python 3",
   "language": "python",
   "name": "python3"
  },
  "language_info": {
   "codemirror_mode": {
    "name": "ipython",
    "version": 3
   },
   "file_extension": ".py",
   "mimetype": "text/x-python",
   "name": "python",
   "nbconvert_exporter": "python",
   "pygments_lexer": "ipython3",
   "version": "3.12.9"
  }
 },
 "nbformat": 4,
 "nbformat_minor": 5
}
