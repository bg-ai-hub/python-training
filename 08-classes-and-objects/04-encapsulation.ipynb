{
 "cells": [
  {
   "cell_type": "code",
   "execution_count": 4,
   "id": "7d0b2ab2",
   "metadata": {},
   "outputs": [
    {
     "name": "stdout",
     "output_type": "stream",
     "text": [
      "Alice\n",
      "30\n",
      "Name: Alice, Age: 30\n"
     ]
    },
    {
     "data": {
      "text/plain": [
       "['__class__',\n",
       " '__delattr__',\n",
       " '__dict__',\n",
       " '__dir__',\n",
       " '__doc__',\n",
       " '__eq__',\n",
       " '__format__',\n",
       " '__ge__',\n",
       " '__getattribute__',\n",
       " '__getstate__',\n",
       " '__gt__',\n",
       " '__hash__',\n",
       " '__init__',\n",
       " '__init_subclass__',\n",
       " '__le__',\n",
       " '__lt__',\n",
       " '__module__',\n",
       " '__ne__',\n",
       " '__new__',\n",
       " '__reduce__',\n",
       " '__reduce_ex__',\n",
       " '__repr__',\n",
       " '__setattr__',\n",
       " '__sizeof__',\n",
       " '__str__',\n",
       " '__subclasshook__',\n",
       " '__weakref__',\n",
       " 'age',\n",
       " 'get_age',\n",
       " 'get_name',\n",
       " 'name']"
      ]
     },
     "execution_count": 4,
     "metadata": {},
     "output_type": "execute_result"
    }
   ],
   "source": [
    "### Encapsulation with getters and setters\n",
    "# In Python, we can use properties to encapsulate attributes of a class.\n",
    "# Properties allow us to define methods that can be accessed like attributes.\n",
    "# This allows us to control access to the attributes and add validation logic.\n",
    "## public, protected, and private attributes\n",
    "\n",
    "class Person:\n",
    "    def __init__(self, name, age):\n",
    "        self.name = name # public attribute\n",
    "        self.age = age # public attribute\n",
    "    \n",
    "    def get_name(self):\n",
    "        return self.name\n",
    "    def get_age(self):\n",
    "        return self.age\n",
    "\n",
    "person = Person(\"Alice\", 30)\n",
    "print(person.name) # Output: Alice\n",
    "print(person.age) # Output: 30\n",
    "print(f\"Name: {person.get_name()}, Age: {person.get_age()}\") # Output: Name: Alice, Age: 30\n",
    "dir(person)"
   ]
  },
  {
   "cell_type": "code",
   "execution_count": null,
   "id": "53b1eb33",
   "metadata": {},
   "outputs": [
    {
     "data": {
      "text/plain": [
       "['_Person__age',\n",
       " '_Person__name',\n",
       " '__class__',\n",
       " '__delattr__',\n",
       " '__dict__',\n",
       " '__dir__',\n",
       " '__doc__',\n",
       " '__eq__',\n",
       " '__format__',\n",
       " '__ge__',\n",
       " '__getattribute__',\n",
       " '__getstate__',\n",
       " '__gt__',\n",
       " '__hash__',\n",
       " '__init__',\n",
       " '__init_subclass__',\n",
       " '__le__',\n",
       " '__lt__',\n",
       " '__module__',\n",
       " '__ne__',\n",
       " '__new__',\n",
       " '__reduce__',\n",
       " '__reduce_ex__',\n",
       " '__repr__',\n",
       " '__setattr__',\n",
       " '__sizeof__',\n",
       " '__str__',\n",
       " '__subclasshook__',\n",
       " '__weakref__',\n",
       " 'gender']"
      ]
     },
     "execution_count": 13,
     "metadata": {},
     "output_type": "execute_result"
    }
   ],
   "source": [
    "class Person:\n",
    "    def __init__(self, name, age, gender):\n",
    "        self.__name = name # private attribute\n",
    "        self.__age = age # private attribute\n",
    "        self.gender = gender # public attribute\n",
    "        \n",
    "person = Person(\"Alice\", 30, \"F\")\n",
    "dir(person)"
   ]
  },
  {
   "cell_type": "code",
   "execution_count": 12,
   "id": "c1c14c46",
   "metadata": {},
   "outputs": [
    {
     "ename": "AttributeError",
     "evalue": "'Person' object has no attribute '__name'",
     "output_type": "error",
     "traceback": [
      "\u001b[31m---------------------------------------------------------------------------\u001b[39m",
      "\u001b[31mAttributeError\u001b[39m                            Traceback (most recent call last)",
      "\u001b[36mCell\u001b[39m\u001b[36m \u001b[39m\u001b[32mIn[12]\u001b[39m\u001b[32m, line 1\u001b[39m\n\u001b[32m----> \u001b[39m\u001b[32m1\u001b[39m \u001b[38;5;28mprint\u001b[39m(\u001b[43mperson\u001b[49m\u001b[43m.\u001b[49m\u001b[43m__name\u001b[49m) \u001b[38;5;66;03m# AttributeError: 'Person' object has no attribute '__name'\u001b[39;00m\n",
      "\u001b[31mAttributeError\u001b[39m: 'Person' object has no attribute '__name'"
     ]
    }
   ],
   "source": [
    "print(person.__name) # AttributeError: 'Person' object has no attribute '__name'"
   ]
  },
  {
   "cell_type": "code",
   "execution_count": 16,
   "id": "f24af278",
   "metadata": {},
   "outputs": [
    {
     "name": "stdout",
     "output_type": "stream",
     "text": [
      "Bob\n",
      "50000\n"
     ]
    },
    {
     "data": {
      "text/plain": [
       "['_Person__age',\n",
       " '__class__',\n",
       " '__delattr__',\n",
       " '__dict__',\n",
       " '__dir__',\n",
       " '__doc__',\n",
       " '__eq__',\n",
       " '__format__',\n",
       " '__ge__',\n",
       " '__getattribute__',\n",
       " '__getstate__',\n",
       " '__gt__',\n",
       " '__hash__',\n",
       " '__init__',\n",
       " '__init_subclass__',\n",
       " '__le__',\n",
       " '__lt__',\n",
       " '__module__',\n",
       " '__ne__',\n",
       " '__new__',\n",
       " '__reduce__',\n",
       " '__reduce_ex__',\n",
       " '__repr__',\n",
       " '__setattr__',\n",
       " '__sizeof__',\n",
       " '__str__',\n",
       " '__subclasshook__',\n",
       " '__weakref__',\n",
       " '_name',\n",
       " '_salary',\n",
       " 'gender']"
      ]
     },
     "execution_count": 16,
     "metadata": {},
     "output_type": "execute_result"
    }
   ],
   "source": [
    "class Person:\n",
    "    def __init__(self, name, age, gender):\n",
    "        self._name = name # protected attribute\n",
    "        self.__age = age # private attribute\n",
    "        self.gender = gender # public attribute\n",
    "\n",
    "class Employee(Person):\n",
    "    def __init__(self, name, age, gender):\n",
    "        super().__init__(name, age, gender)\n",
    "        self._salary = 50000\n",
    "\n",
    "employee = Employee(\"Bob\", 40, \"M\")\n",
    "print(employee._name) # Output: Bob\n",
    "print(employee._salary) # Output: 50000\n",
    "# The protected attribute _name can be accessed in the subclass Employee.\n",
    "dir(employee)"
   ]
  },
  {
   "cell_type": "code",
   "execution_count": 17,
   "id": "9e6d20c4",
   "metadata": {},
   "outputs": [],
   "source": [
    "## encapsulation with getters and setters\n",
    "\n",
    "class Person:\n",
    "    def __init__(self, name, age):\n",
    "        self.__name = name # private attribute\n",
    "        self.__age = age # private attribute\n",
    "    \n",
    "    ## getter for name\n",
    "    def get_name(self):\n",
    "        return self.__name\n",
    "    ## setter for name\n",
    "    def set_name(self, name):\n",
    "        self.__name = name\n",
    "    ## getter for age\n",
    "    def get_age(self):\n",
    "        return self.__age\n",
    "    ## setter for age\n",
    "    def set_age(self, age):\n",
    "        if age < 0:\n",
    "            raise ValueError(\"Age cannot be negative\")\n",
    "        self.__age = age"
   ]
  },
  {
   "cell_type": "code",
   "execution_count": 19,
   "id": "eb04658c",
   "metadata": {},
   "outputs": [
    {
     "name": "stdout",
     "output_type": "stream",
     "text": [
      "Alice\n",
      "30\n",
      "Bob\n",
      "35\n",
      "Age cannot be negative\n"
     ]
    }
   ],
   "source": [
    "p1 = Person(\"Alice\", 30)\n",
    "print(p1.get_name()) # Output: Alice\n",
    "print(p1.get_age()) # Output: 30\n",
    "p1.set_name(\"Bob\")\n",
    "print(p1.get_name()) # Output: Bob\n",
    "p1.set_age(35)\n",
    "print(p1.get_age()) # Output: 35\n",
    "try:\n",
    "    p1.set_age(-5) # Raises ValueError: Age cannot be negative\n",
    "except ValueError as e:\n",
    "    print(e)"
   ]
  },
  {
   "cell_type": "code",
   "execution_count": null,
   "id": "cd9ee822",
   "metadata": {},
   "outputs": [],
   "source": []
  }
 ],
 "metadata": {
  "kernelspec": {
   "display_name": "Python 3",
   "language": "python",
   "name": "python3"
  },
  "language_info": {
   "codemirror_mode": {
    "name": "ipython",
    "version": 3
   },
   "file_extension": ".py",
   "mimetype": "text/x-python",
   "name": "python",
   "nbconvert_exporter": "python",
   "pygments_lexer": "ipython3",
   "version": "3.12.9"
  }
 },
 "nbformat": 4,
 "nbformat_minor": 5
}
