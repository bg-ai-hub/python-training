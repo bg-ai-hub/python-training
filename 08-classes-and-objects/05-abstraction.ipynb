{
 "cells": [
  {
   "cell_type": "code",
   "execution_count": 2,
   "id": "6b8cb119",
   "metadata": {},
   "outputs": [
    {
     "name": "stdout",
     "output_type": "stream",
     "text": [
      "Car engine started\n",
      "Driving the vehicle\n",
      "Car engine stopped\n",
      "Bike engine started\n",
      "Driving the vehicle\n",
      "Bike engine stopped\n"
     ]
    }
   ],
   "source": [
    "## Abstraction in python\n",
    "# Abstraction is a programming concept that allows you to hide the complex implementation details of a system and expose only the necessary parts to the user.\n",
    "# It helps in reducing complexity and increasing efficiency by allowing the user to focus on high-level operations without worrying about the underlying details.\n",
    "# In Python, abstraction can be achieved through abstract classes and interfaces.\n",
    "\n",
    "from abc import ABC, abstractmethod\n",
    "\n",
    "## Abstract class\n",
    "class Vehicle(ABC):\n",
    "    @abstractmethod\n",
    "    def start_engine(self):\n",
    "        pass\n",
    "\n",
    "    @abstractmethod\n",
    "    def stop_engine(self):\n",
    "        pass\n",
    "    \n",
    "    def drive(self):\n",
    "        print(\"Driving the vehicle\")\n",
    "\n",
    "class Car(Vehicle):\n",
    "    def start_engine(self):\n",
    "        print(\"Car engine started\")\n",
    "\n",
    "    def stop_engine(self):\n",
    "        print(\"Car engine stopped\")\n",
    "\n",
    "class Bike(Vehicle):\n",
    "    def start_engine(self):\n",
    "        print(\"Bike engine started\")\n",
    "\n",
    "    def stop_engine(self):\n",
    "        print(\"Bike engine stopped\")\n",
    "\n",
    "# Example usage\n",
    "car = Car()\n",
    "car.start_engine()  # Output: Car engine started\n",
    "car.drive()        # Output: Driving the vehicle\n",
    "car.stop_engine()  # Output: Car engine stopped\n",
    "\n",
    "bike = Bike()\n",
    "bike.start_engine()  # Output: Bike engine started\n",
    "bike.drive()        # Output: Driving the vehicle\n",
    "bike.stop_engine()  # Output: Bike engine stopped\n",
    "# In this example, the Vehicle class is an abstract class that defines the interface for vehicles."
   ]
  },
  {
   "cell_type": "code",
   "execution_count": null,
   "id": "24f8b420",
   "metadata": {},
   "outputs": [],
   "source": []
  }
 ],
 "metadata": {
  "kernelspec": {
   "display_name": "Python 3",
   "language": "python",
   "name": "python3"
  },
  "language_info": {
   "codemirror_mode": {
    "name": "ipython",
    "version": 3
   },
   "file_extension": ".py",
   "mimetype": "text/x-python",
   "name": "python",
   "nbconvert_exporter": "python",
   "pygments_lexer": "ipython3",
   "version": "3.12.9"
  }
 },
 "nbformat": 4,
 "nbformat_minor": 5
}
