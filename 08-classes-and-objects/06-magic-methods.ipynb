{
 "cells": [
  {
   "cell_type": "code",
   "execution_count": 3,
   "id": "747517b4",
   "metadata": {},
   "outputs": [
    {
     "name": "stdout",
     "output_type": "stream",
     "text": [
      "Alice is 30 years old.\n",
      "Person(Alice, 30)\n"
     ]
    }
   ],
   "source": [
    "## Magic method / dunder method in python\n",
    "# Magic methods are special methods in Python that start and end with double underscores (dunder).\n",
    "# They are also known as \"dunder\" methods, which is short for \"double underscore\".\n",
    "\n",
    "class Person:\n",
    "    def __init__(self, name, age):\n",
    "        self.name = name\n",
    "        self.age = age\n",
    "\n",
    "    # This method is called when the object is printed\n",
    "    def __str__(self):\n",
    "        return f\"{self.name} is {self.age} years old.\"\n",
    "\n",
    "    # This method is called when the object is represented\n",
    "    def __repr__(self):\n",
    "        return f\"Person({self.name}, {self.age})\"\n",
    "\n",
    "# Example usage\n",
    "person = Person(\"Alice\", 30)\n",
    "print(person)  # Calls __str__\n",
    "print(repr(person))  # Calls __repr__\n",
    "# The __str__ method is meant to be readable and user-friendly, while __repr__ is meant to be unambiguous and useful for debugging."
   ]
  },
  {
   "cell_type": "code",
   "execution_count": null,
   "id": "9a97a325",
   "metadata": {},
   "outputs": [],
   "source": []
  }
 ],
 "metadata": {
  "kernelspec": {
   "display_name": "Python 3",
   "language": "python",
   "name": "python3"
  },
  "language_info": {
   "codemirror_mode": {
    "name": "ipython",
    "version": 3
   },
   "file_extension": ".py",
   "mimetype": "text/x-python",
   "name": "python",
   "nbconvert_exporter": "python",
   "pygments_lexer": "ipython3",
   "version": "3.12.9"
  }
 },
 "nbformat": 4,
 "nbformat_minor": 5
}
