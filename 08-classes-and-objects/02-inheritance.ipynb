{
 "cells": [
  {
   "cell_type": "code",
   "execution_count": 2,
   "id": "4138a487",
   "metadata": {},
   "outputs": [],
   "source": [
    "## Inheritance example\n",
    "# This is a simple example of inheritance in Python.\n",
    "class Car:\n",
    "    def __init__(self, windows, doors, engine_type):\n",
    "        self.windows = windows\n",
    "        self.doors = doors\n",
    "        self.engine_type = engine_type\n",
    "\n",
    "    def drive(self):\n",
    "        print(f\"the perons will drive {self.engine_type} car\")"
   ]
  },
  {
   "cell_type": "code",
   "execution_count": 3,
   "id": "90318525",
   "metadata": {},
   "outputs": [
    {
     "name": "stdout",
     "output_type": "stream",
     "text": [
      "the perons will drive petrol car\n"
     ]
    }
   ],
   "source": [
    "car1 = Car(4, 4, \"petrol\")\n",
    "car1.drive()"
   ]
  },
  {
   "cell_type": "code",
   "execution_count": 9,
   "id": "4d9a9ea1",
   "metadata": {},
   "outputs": [],
   "source": [
    "class Tesla (Car):\n",
    "    def __init__(self, windows, doors, engine_type, is_autopilot):\n",
    "        super().__init__(windows, doors, engine_type)\n",
    "        self.is_autopilot = is_autopilot\n",
    "\n",
    "    def self_driving(self):\n",
    "        print(f\"the person will drive {self.engine_type} car with autopilot: {self.is_autopilot}\")"
   ]
  },
  {
   "cell_type": "code",
   "execution_count": 11,
   "id": "789e6173",
   "metadata": {},
   "outputs": [
    {
     "name": "stdout",
     "output_type": "stream",
     "text": [
      "the person will drive electric car with autopilot: True\n",
      "the perons will drive electric car\n"
     ]
    }
   ],
   "source": [
    "car2 = Tesla(4, 4, \"electric\", True)\n",
    "car2.self_driving()\n",
    "car2.drive()"
   ]
  },
  {
   "cell_type": "code",
   "execution_count": null,
   "id": "ae6b8808",
   "metadata": {},
   "outputs": [
    {
     "name": "stdout",
     "output_type": "stream",
     "text": [
      "Buddy says Woof!\n",
      "Alice is playing with the pet\n"
     ]
    }
   ],
   "source": [
    "## Multiple Inheritance\n",
    "# This is a simple example of multiple inheritance in Python.\n",
    "class Animal:\n",
    "    def __init__(self, name):\n",
    "        self.name = name\n",
    "    def speak(self):\n",
    "        print(\"sub class should implement this method\")\n",
    "    \n",
    "class Pet:\n",
    "    def __init__(self, owner):\n",
    "        self.owner = owner\n",
    "           def play(self):\n",
    "        print(f\"{self.owner} is playing with the pet\")\n",
    "\n",
    "class Dog(Animal, Pet):\n",
    "    def __init__(self, name, owner):\n",
    "        Animal.__init__(self, name)\n",
    "        Pet.__init__(self, owner)\n",
    "    \n",
    "    def speak(self):\n",
    "        print(f\"{self.name} says Woof!\")\n",
    "\n",
    "dog = Dog(\"Buddy\", \"Alice\")\n",
    "dog.speak()\n",
    "dog.play()\n",
    "# This is a simple example of polymorphism in Python."
   ]
  },
  {
   "cell_type": "code",
   "execution_count": null,
   "id": "36bfdb01",
   "metadata": {},
   "outputs": [],
   "source": []
  }
 ],
 "metadata": {
  "kernelspec": {
   "display_name": "Python 3",
   "language": "python",
   "name": "python3"
  },
  "language_info": {
   "codemirror_mode": {
    "name": "ipython",
    "version": 3
   },
   "file_extension": ".py",
   "mimetype": "text/x-python",
   "name": "python",
   "nbconvert_exporter": "python",
   "pygments_lexer": "ipython3",
   "version": "3.12.9"
  }
 },
 "nbformat": 4,
 "nbformat_minor": 5
}
