{
 "cells": [
  {
   "cell_type": "markdown",
   "id": "9504e8b6",
   "metadata": {},
   "source": [
    "### Method Overriding\n",
    "#### Inheritance allows us to define a class that inherits all the methods and properties from another class.\n",
    "#### When you inherit from a class, you can override or extend the functionality of that class.\n",
    "#### This is useful when you want to change the behavior of a method in a subclass without modifying the original class.\n",
    "\n"
   ]
  },
  {
   "cell_type": "code",
   "execution_count": 2,
   "id": "86455f30",
   "metadata": {},
   "outputs": [
    {
     "name": "stdout",
     "output_type": "stream",
     "text": [
      "Woof! Woof!\n",
      "Meow!\n"
     ]
    }
   ],
   "source": [
    "## Base Class\n",
    "class Animal:\n",
    "    def speak(self):\n",
    "        return \"Animal speaks\"\n",
    "\n",
    "class Dog(Animal):\n",
    "    def speak(self):\n",
    "        return \"Woof! Woof!\"\n",
    "\n",
    "class Cat(Animal):\n",
    "    def speak(self):\n",
    "        return \"Meow!\"\n",
    "\n",
    "dog = Dog()\n",
    "cat = Cat()\n",
    "print(dog.speak())  # Output: Woof! Woof!\n",
    "print(cat.speak())  # Output: Meow!"
   ]
  },
  {
   "cell_type": "code",
   "execution_count": 3,
   "id": "7c78273d",
   "metadata": {},
   "outputs": [
    {
     "name": "stdout",
     "output_type": "stream",
     "text": [
      "Woof! Woof!\n",
      "Meow!\n"
     ]
    }
   ],
   "source": [
    "## function to demonstrate polymorphism\n",
    "def animal_sound(animal):\n",
    "    print(animal.speak())\n",
    "animal_sound(dog)  # Output: Woof! Woof!\n",
    "animal_sound(cat)  # Output: Meow!"
   ]
  },
  {
   "cell_type": "code",
   "execution_count": 6,
   "id": "d2d87b9c",
   "metadata": {},
   "outputs": [
    {
     "name": "stdout",
     "output_type": "stream",
     "text": [
      "Rectangle area: 50\n",
      "Circle area: 153.86\n"
     ]
    }
   ],
   "source": [
    "### polymorphism with functions and methods\n",
    "\n",
    "class Shape:\n",
    "    def area(self):\n",
    "        return \"return the area of the shape\"\n",
    "\n",
    "class Rectangle(Shape):\n",
    "    def __init__(self, length, width):\n",
    "        self.length = length\n",
    "        self.width = width\n",
    "\n",
    "    def area(self):\n",
    "        return self.length * self.width\n",
    "\n",
    "class Circle(Shape):\n",
    "    def __init__(self, radius):\n",
    "        self.radius = radius\n",
    "\n",
    "    def area(self):\n",
    "        return 3.14 * self.radius * self.radius\n",
    "\n",
    "rectangle = Rectangle(10, 5)\n",
    "circle = Circle(7)\n",
    "print(f\"Rectangle area: {rectangle.area()}\")  # Output: Rectangle area: 50\n",
    "print(f\"Circle area: {circle.area()}\")  # Output: Circle area: 153.86"
   ]
  },
  {
   "cell_type": "code",
   "execution_count": 9,
   "id": "df055208",
   "metadata": {},
   "outputs": [
    {
     "name": "stdout",
     "output_type": "stream",
     "text": [
      "Car engine started\n",
      "Car engine stopped\n",
      "Bike engine started\n",
      "Bike engine stopped\n"
     ]
    }
   ],
   "source": [
    "## polymorphism with abstract base class\n",
    "\n",
    "from abc import ABC, abstractmethod\n",
    "class Vehicle(ABC):\n",
    "    @abstractmethod\n",
    "    def start_engine(self):\n",
    "        pass\n",
    "    @abstractmethod\n",
    "    def stop_engine(self):\n",
    "        pass\n",
    "class Car(Vehicle):\n",
    "    def start_engine(self):\n",
    "        return \"Car engine started\"\n",
    "    def stop_engine(self):\n",
    "        return \"Car engine stopped\"\n",
    "class Bike(Vehicle):\n",
    "    def start_engine(self):\n",
    "        return \"Bike engine started\"\n",
    "    def stop_engine(self):\n",
    "        return \"Bike engine stopped\"\n",
    "\n",
    "car = Car()\n",
    "bike = Bike()\n",
    "\n",
    "print(car.start_engine())  # Output: Car engine started\n",
    "print(car.stop_engine())  # Output: Car engine stopped\n",
    "print(bike.start_engine())  # Output: Bike engine started\n",
    "print(bike.stop_engine())  # Output: Bike engine stopped"
   ]
  },
  {
   "cell_type": "code",
   "execution_count": null,
   "id": "47701219",
   "metadata": {},
   "outputs": [],
   "source": []
  }
 ],
 "metadata": {
  "kernelspec": {
   "display_name": "Python 3",
   "language": "python",
   "name": "python3"
  },
  "language_info": {
   "codemirror_mode": {
    "name": "ipython",
    "version": 3
   },
   "file_extension": ".py",
   "mimetype": "text/x-python",
   "name": "python",
   "nbconvert_exporter": "python",
   "pygments_lexer": "ipython3",
   "version": "3.12.9"
  }
 },
 "nbformat": 4,
 "nbformat_minor": 5
}
