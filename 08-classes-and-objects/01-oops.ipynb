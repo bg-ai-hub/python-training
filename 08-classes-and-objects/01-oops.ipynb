{
 "cells": [
  {
   "cell_type": "code",
   "execution_count": 4,
   "id": "9d18381e",
   "metadata": {},
   "outputs": [
    {
     "name": "stdout",
     "output_type": "stream",
     "text": [
      "<class '__main__.Car'>\n",
      "<class '__main__.Car'>\n"
     ]
    }
   ],
   "source": [
    "## A class is a blueprint for creating objects.\n",
    "## An object is a collection of attributes and methods.\n",
    "\n",
    "class Car:\n",
    "    pass\n",
    "\n",
    "audi = Car()  # audi is an instance of the Car class\n",
    "bmw = Car()  # bmw is another instance of the Car class\n",
    "print(type(audi))  # <class '__main__.Car'>\n",
    "print(type(bmw))  # <class '__main__.Car'>"
   ]
  },
  {
   "cell_type": "code",
   "execution_count": 5,
   "id": "a51d633a",
   "metadata": {},
   "outputs": [
    {
     "name": "stdout",
     "output_type": "stream",
     "text": [
      "<__main__.Car object at 0x10424eff0>\n",
      "<__main__.Car object at 0x1041f1130>\n"
     ]
    }
   ],
   "source": [
    "print(audi)\n",
    "print(bmw)"
   ]
  },
  {
   "cell_type": "code",
   "execution_count": 8,
   "id": "4b03f2d1",
   "metadata": {},
   "outputs": [
    {
     "name": "stdout",
     "output_type": "stream",
     "text": [
      "The 2020 Audi A4's engine has started.\n",
      "The 2020 Audi A4's engine has stopped.\n",
      "The 2021 BMW X5's engine has started.\n",
      "The 2021 BMW X5's engine has stopped.\n",
      "Audi\n",
      "A4\n",
      "2020\n",
      "BMW\n",
      "X5\n",
      "2021\n",
      "{'make': 'Audi', 'model': 'A4', 'year': 2020}\n",
      "{'make': 'BMW', 'model': 'X5', 'year': 2021}\n"
     ]
    }
   ],
   "source": [
    "## define class with attributes and methods\n",
    "class Car:\n",
    "    ## constructor method.\n",
    "    ## The __init__ method is a special method that is called when an object is created.\n",
    "    ## It initializes the object's attributes.\n",
    "    ## The self parameter is a reference to the current instance of the class.\n",
    "    def __init__(self, make, model, year):\n",
    "        self.make = make\n",
    "        self.model = model\n",
    "        self.year = year\n",
    "\n",
    "    def start_engine(self):\n",
    "        print(f\"The {self.year} {self.make} {self.model}'s engine has started.\")\n",
    "\n",
    "    def stop_engine(self):\n",
    "        print(f\"The {self.year} {self.make} {self.model}'s engine has stopped.\")\n",
    "\n",
    "# Create an instance of the Car class\n",
    "audi = Car(\"Audi\", \"A4\", 2020)\n",
    "bmw = Car(\"BMW\", \"X5\", 2021)\n",
    "# Call the methods on the audi object\n",
    "audi.start_engine()  # The 2020 Audi A4's engine has started.\n",
    "audi.stop_engine()  # The 2020 Audi A4's engine has stopped.\n",
    "# Call the methods on the bmw object\n",
    "bmw.start_engine()  # The 2021 BMW X5's engine has started.\n",
    "bmw.stop_engine()  # The 2021 BMW X5's engine has stopped.\n",
    "# Access the attributes of the audi object\n",
    "print(audi.make)  # Audi\n",
    "print(audi.model)  # A4\n",
    "print(audi.year)  # 2020\n",
    "# Access the attributes of the bmw object\n",
    "print(bmw.make)  # BMW\n",
    "print(bmw.model)  # X5\n",
    "print(bmw.year)  # 2021\n",
    "# Access the attributes of the audi object\n",
    "print(audi.__dict__)  # {'make': 'Audi', 'model': 'A4', 'year': 2020}\n",
    "# Access the attributes of the bmw object\n",
    "print(bmw.__dict__)  # {'make': 'BMW', 'model': 'X5', 'year': 2021}\n"
   ]
  },
  {
   "cell_type": "code",
   "execution_count": 13,
   "id": "f7792719",
   "metadata": {},
   "outputs": [
    {
     "name": "stdout",
     "output_type": "stream",
     "text": [
      "Balance before deposit: 1000\n",
      "Deposited 500. New balance: 1500\n",
      "Balance after deposit: 1500\n",
      "Withdrew 200. New balance: 1300\n",
      "Balance after withdrawal: 1300\n",
      "Withdrawal amount must be positive and less than or equal to the balance.\n",
      "Balance after failed withdrawal: 1300\n"
     ]
    }
   ],
   "source": [
    "### Modeling a bank account\n",
    "## Define a class called BankAccount\n",
    "class BankAccount:\n",
    "    def __init__(self, owner, balance=0):\n",
    "        self.owner = owner\n",
    "        self.balance = balance\n",
    "    \n",
    "    def deposit(self, amount):\n",
    "        if amount > 0:\n",
    "            self.balance += amount\n",
    "            print(f\"Deposited {amount}. New balance: {self.balance}\")\n",
    "        else:\n",
    "            print(\"Deposit amount must be positive.\")\n",
    "\n",
    "    def withdraw(self, amount):\n",
    "        if 0 < amount <= self.balance:\n",
    "            self.balance -= amount\n",
    "            print(f\"Withdrew {amount}. New balance: {self.balance}\")\n",
    "        else:\n",
    "            print(\"Withdrawal amount must be positive and less than or equal to the balance.\")\n",
    "    \n",
    "    def get_balance(self):\n",
    "        return self.balance\n",
    "    \n",
    "# Create an instance of the BankAccount class\n",
    "account = BankAccount(\"Alice\", 1000)\n",
    "# Call the methods on the account object\n",
    "print(\"Balance before deposit:\", account.get_balance())  # 1000\n",
    "account.deposit(500)  # Deposited 500. New balance: 1500\n",
    "print(\"Balance after deposit:\", account.get_balance())  # 1500\n",
    "account.withdraw(200)  # Withdrew 200. New balance: 1300\n",
    "print(\"Balance after withdrawal:\", account.get_balance())  # 1300\n",
    "account.withdraw(2000)  # Withdrawal amount must be positive and less than or equal to the balance.\n",
    "print(\"Balance after failed withdrawal:\", account.get_balance())  # 1300"
   ]
  },
  {
   "cell_type": "code",
   "execution_count": null,
   "id": "a605346c",
   "metadata": {},
   "outputs": [],
   "source": []
  }
 ],
 "metadata": {
  "kernelspec": {
   "display_name": "Python 3",
   "language": "python",
   "name": "python3"
  },
  "language_info": {
   "codemirror_mode": {
    "name": "ipython",
    "version": 3
   },
   "file_extension": ".py",
   "mimetype": "text/x-python",
   "name": "python",
   "nbconvert_exporter": "python",
   "pygments_lexer": "ipython3",
   "version": "3.12.9"
  }
 },
 "nbformat": 4,
 "nbformat_minor": 5
}
