{
 "cells": [
  {
   "cell_type": "code",
   "execution_count": 2,
   "id": "6e8414b9",
   "metadata": {},
   "outputs": [
    {
     "name": "stdout",
     "output_type": "stream",
     "text": [
      "Directory 'new_directory' already exists.\n"
     ]
    }
   ],
   "source": [
    "## create new directory\n",
    "import os\n",
    "new_dir = \"new_directory\"\n",
    "if not os.path.exists(new_dir):\n",
    "    os.makedirs(new_dir)\n",
    "    print(f\"Directory '{new_dir}' created.\")\n",
    "else:\n",
    "    print(f\"Directory '{new_dir}' already exists.\")"
   ]
  },
  {
   "cell_type": "code",
   "execution_count": 3,
   "id": "a2706812",
   "metadata": {},
   "outputs": [
    {
     "name": "stdout",
     "output_type": "stream",
     "text": [
      "Items in the current directory:\n",
      "destination.txt\n",
      "new_directory\n",
      "example.bin\n",
      "example.txt\n",
      "02-filepath.ipynb\n",
      "01-file-operations.ipynb\n"
     ]
    }
   ],
   "source": [
    "## listing files and directories\n",
    "items = os.listdir('.')\n",
    "print(\"Items in the current directory:\")\n",
    "for item in items:\n",
    "    print(item)"
   ]
  },
  {
   "cell_type": "code",
   "execution_count": 4,
   "id": "0f1f1faf",
   "metadata": {},
   "outputs": [
    {
     "name": "stdout",
     "output_type": "stream",
     "text": [
      "Full path: folder1/file.txt\n"
     ]
    }
   ],
   "source": [
    "## joining paths\n",
    "import os\n",
    "dir_path = \"folder1\"\n",
    "file_name = \"file.txt\"\n",
    "full_path = os.path.join(dir_path, file_name)\n",
    "print(f\"Full path: {full_path}\")"
   ]
  },
  {
   "cell_type": "code",
   "execution_count": 1,
   "id": "a5d7c11b",
   "metadata": {},
   "outputs": [
    {
     "name": "stdout",
     "output_type": "stream",
     "text": [
      "Full path: /Users/bhaveshg/Study/bg-ai-hub/python-training/06-file-handling/folder1/file.txt\n"
     ]
    }
   ],
   "source": [
    "## joining paths\n",
    "import os\n",
    "dir_path = \"folder1\"\n",
    "file_name = \"file.txt\"\n",
    "full_path = os.path.join(os.getcwd(),dir_path, file_name)\n",
    "print(f\"Full path: {full_path}\")"
   ]
  },
  {
   "cell_type": "code",
   "execution_count": 3,
   "id": "02f019a7",
   "metadata": {},
   "outputs": [
    {
     "name": "stdout",
     "output_type": "stream",
     "text": [
      "example1.txt does not exist\n"
     ]
    }
   ],
   "source": [
    "path = 'example1.txt'\n",
    "if os.path.exists(path):\n",
    "    print(f\"{path} exists\")\n",
    "else:\n",
    "    print(f\"{path} does not exist\")"
   ]
  },
  {
   "cell_type": "code",
   "execution_count": 5,
   "id": "1f7b3375",
   "metadata": {},
   "outputs": [
    {
     "name": "stdout",
     "output_type": "stream",
     "text": [
      "example.txt is a file\n"
     ]
    }
   ],
   "source": [
    "## checking if a path is a file or directory\n",
    "path = 'example.txt'\n",
    "if os.path.isfile(path):\n",
    "    print(f\"{path} is a file\")\n",
    "elif os.path.isdir(path):\n",
    "    print(f\"{path} is a directory\")\n",
    "else:\n",
    "    print(f\"{path} does not exist\")"
   ]
  },
  {
   "cell_type": "code",
   "execution_count": 14,
   "id": "72412907",
   "metadata": {},
   "outputs": [],
   "source": [
    "def get_file_info(file_path):\n",
    "    if os.path.isfile(file_path):\n",
    "        file_size = os.path.getsize(file_path)\n",
    "        file_mod_time = os.path.getmtime(file_path)\n",
    "        print(f\"File: {file_path}\")\n",
    "        print(f\"Size: {file_size} bytes\")\n",
    "        print(f\"Last modified: {file_mod_time}\")\n",
    "        print()\n",
    "    if os.path.isdir(file_path):\n",
    "        print(f\"{file_path} is a directory\")\n",
    "    else:\n",
    "        print(f\"{file_path} is not a file or does not exist\")\n"
   ]
  },
  {
   "cell_type": "code",
   "execution_count": 15,
   "id": "8ed56119",
   "metadata": {},
   "outputs": [
    {
     "name": "stdout",
     "output_type": "stream",
     "text": [
      "File: destination.txt\n",
      "Size: 183 bytes\n",
      "Last modified: 1746802194.3171914\n",
      "\n",
      "destination.txt is not a file or does not exist\n",
      "new_directory is a directory\n",
      "File: example.bin\n",
      "Size: 27 bytes\n",
      "Last modified: 1746802140.9190876\n",
      "\n",
      "example.bin is not a file or does not exist\n",
      "File: example.txt\n",
      "Size: 27 bytes\n",
      "Last modified: 1746802396.5658154\n",
      "\n",
      "example.txt is not a file or does not exist\n",
      "File: 02-filepath.ipynb\n",
      "Size: 4961 bytes\n",
      "Last modified: 1746802812.5097845\n",
      "\n",
      "02-filepath.ipynb is not a file or does not exist\n",
      "File: 01-file-operations.ipynb\n",
      "Size: 5658 bytes\n",
      "Last modified: 1746802400.91958\n",
      "\n",
      "01-file-operations.ipynb is not a file or does not exist\n"
     ]
    },
    {
     "data": {
      "text/plain": [
       "[None, None, None, None, None, None]"
      ]
     },
     "execution_count": 15,
     "metadata": {},
     "output_type": "execute_result"
    }
   ],
   "source": [
    "list(map(get_file_info, os.listdir('.')))"
   ]
  },
  {
   "cell_type": "code",
   "execution_count": 16,
   "id": "54a76280",
   "metadata": {},
   "outputs": [
    {
     "name": "stdout",
     "output_type": "stream",
     "text": [
      "Absolute path of 'example.txt': /Users/bhaveshg/Study/bg-ai-hub/python-training/06-file-handling/example.txt\n"
     ]
    }
   ],
   "source": [
    "## getting absolute path\n",
    "relative_path = \"example.txt\"\n",
    "absolute_path = os.path.abspath(relative_path)\n",
    "print(f\"Absolute path of '{relative_path}': {absolute_path}\")"
   ]
  },
  {
   "cell_type": "code",
   "execution_count": null,
   "id": "49a03888",
   "metadata": {},
   "outputs": [],
   "source": []
  }
 ],
 "metadata": {
  "kernelspec": {
   "display_name": "Python 3",
   "language": "python",
   "name": "python3"
  },
  "language_info": {
   "codemirror_mode": {
    "name": "ipython",
    "version": 3
   },
   "file_extension": ".py",
   "mimetype": "text/x-python",
   "name": "python",
   "nbconvert_exporter": "python",
   "pygments_lexer": "ipython3",
   "version": "3.12.9"
  }
 },
 "nbformat": 4,
 "nbformat_minor": 5
}
