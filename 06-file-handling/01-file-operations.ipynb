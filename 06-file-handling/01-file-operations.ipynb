{
 "cells": [
  {
   "cell_type": "code",
   "execution_count": 7,
   "id": "4c442ed6",
   "metadata": {},
   "outputs": [
    {
     "name": "stdout",
     "output_type": "stream",
     "text": [
      "hello\n",
      "how are you?\n",
      "I'm good.\n",
      "welcome to the course\n"
     ]
    }
   ],
   "source": [
    "## Read whole file into a list of lines\n",
    "with open('example.txt', 'r') as f:\n",
    "    content = f.read()\n",
    "    print(content)"
   ]
  },
  {
   "cell_type": "code",
   "execution_count": null,
   "id": "6ae23fb2",
   "metadata": {},
   "outputs": [
    {
     "name": "stdout",
     "output_type": "stream",
     "text": [
      "hello\n",
      "how are you?\n",
      "I'm good.\n",
      "welcome to the course\n"
     ]
    }
   ],
   "source": [
    "with open('example.txt', 'r') as f:\n",
    "    for line in f:\n",
    "        print(line.strip()) ## strip() removes the newline character"
   ]
  },
  {
   "cell_type": "code",
   "execution_count": null,
   "id": "fe85c6ca",
   "metadata": {},
   "outputs": [],
   "source": [
    "## wrtite to a file\n",
    "with open('example.txt', 'w') as f: ## 'w' mode overwrites the file\n",
    "    f.write('Hello World\\n')\n",
    "    f.write('This is a test\\n')"
   ]
  },
  {
   "cell_type": "code",
   "execution_count": 11,
   "id": "a16aa3e2",
   "metadata": {},
   "outputs": [],
   "source": [
    "## write file without overwriting\n",
    "with open('example.txt', 'a') as f: ## 'a' mode appends to the file\n",
    "    f.write('Append operation is taking place\\n')\n",
    "    f.write('This is a test\\n')"
   ]
  },
  {
   "cell_type": "code",
   "execution_count": 12,
   "id": "b0ebb9ae",
   "metadata": {},
   "outputs": [],
   "source": [
    "## writing list of lines to a file\n",
    "lines = ['Hello World\\n', 'This is a test\\n', 'Append operation is taking place\\n']\n",
    "with open('example.txt', 'a') as f: ## 'a' mode appends to the file\n",
    "    f.writelines(lines) ## writelines() writes a list of lines to the file"
   ]
  },
  {
   "cell_type": "code",
   "execution_count": 13,
   "id": "de301184",
   "metadata": {},
   "outputs": [],
   "source": [
    "### Binary files\n",
    "## write to a binary file\n",
    "data = b'Hello World\\nThis is a test\\n'\n",
    "with open('example.bin', 'wb') as f: ## 'wb' mode writes binary data to the file\n",
    "    f.write(data)"
   ]
  },
  {
   "cell_type": "code",
   "execution_count": 14,
   "id": "50b63786",
   "metadata": {},
   "outputs": [
    {
     "name": "stdout",
     "output_type": "stream",
     "text": [
      "b'Hello World\\nThis is a test\\n'\n"
     ]
    }
   ],
   "source": [
    "## reading binary file\n",
    "with open('example.bin', 'rb') as f: ## 'rb' mode reads binary data from the file\n",
    "    content = f.read()\n",
    "    print(content)"
   ]
  },
  {
   "cell_type": "code",
   "execution_count": 15,
   "id": "f495de9b",
   "metadata": {},
   "outputs": [],
   "source": [
    "## read a content from source text file and write to a destination text file\n",
    "with open('example.txt', 'r') as source_file:\n",
    "    with open('destination.txt', 'w') as dest_file:\n",
    "        for line in source_file:\n",
    "            dest_file.write(line)"
   ]
  },
  {
   "cell_type": "code",
   "execution_count": 16,
   "id": "238fc088",
   "metadata": {},
   "outputs": [
    {
     "name": "stdout",
     "output_type": "stream",
     "text": [
      "Number of lines: 9\n",
      "Number of words: 35\n",
      "Number of characters: 183\n"
     ]
    }
   ],
   "source": [
    "## read a file and count the number of lines, words and characters\n",
    "def count_lines_words_chars(filename):\n",
    "    with open(filename, 'r') as f:\n",
    "        lines = f.readlines()\n",
    "        num_lines = len(lines)\n",
    "        num_words = sum(len(line.split()) for line in lines)\n",
    "        num_chars = sum(len(line) for line in lines)\n",
    "    return num_lines, num_words, num_chars\n",
    "filename = 'example.txt'\n",
    "num_lines, num_words, num_chars = count_lines_words_chars(filename)\n",
    "print(f'Number of lines: {num_lines}')\n",
    "print(f'Number of words: {num_words}')\n",
    "print(f'Number of characters: {num_chars}')"
   ]
  },
  {
   "cell_type": "code",
   "execution_count": 23,
   "id": "0696278b",
   "metadata": {},
   "outputs": [
    {
     "name": "stdout",
     "output_type": "stream",
     "text": [
      "Hello World\n",
      "This is a test\n",
      "\n"
     ]
    }
   ],
   "source": [
    "## writing and reading a file\n",
    "with open('example.txt', 'w+') as f: ## 'w+' mode creates a new file for reading and writing\n",
    "    f.write('Hello World\\n')\n",
    "    f.write('This is a test\\n')\n",
    "    f.seek(0) ## move the cursor to the beginning of the file\n",
    "    content = f.read()\n",
    "    print(content)"
   ]
  },
  {
   "cell_type": "code",
   "execution_count": null,
   "id": "36362122",
   "metadata": {},
   "outputs": [],
   "source": []
  },
  {
   "cell_type": "code",
   "execution_count": null,
   "id": "3a2f65ee",
   "metadata": {},
   "outputs": [],
   "source": []
  }
 ],
 "metadata": {
  "kernelspec": {
   "display_name": "Python 3",
   "language": "python",
   "name": "python3"
  },
  "language_info": {
   "codemirror_mode": {
    "name": "ipython",
    "version": 3
   },
   "file_extension": ".py",
   "mimetype": "text/x-python",
   "name": "python",
   "nbconvert_exporter": "python",
   "pygments_lexer": "ipython3",
   "version": "3.12.9"
  }
 },
 "nbformat": 4,
 "nbformat_minor": 5
}
