{
 "cells": [
  {
   "cell_type": "code",
   "execution_count": 1,
   "id": "721ec047",
   "metadata": {},
   "outputs": [],
   "source": [
    "## Lemmatization in NLP\n",
    "# Lemmatization is the process of reducing a word to its base or root form.\n",
    "# Unlike stemming, which may produce non-words, lemmatization results in a valid word.\n",
    "# For example, the lemma of \"running\" is \"run\", and the lemma of \"better\" is \"good\".\n",
    "# Lemmatization considers the context and converts the word to its meaningful base form.\n",
    "# It is often used in natural language processing (NLP) tasks such as text analysis, information retrieval, and machine learning.\n",
    "# In this code, we will demonstrate how to perform lemmatization using the NLTK library in Python."
   ]
  },
  {
   "cell_type": "code",
   "execution_count": 14,
   "id": "3e6e09f2",
   "metadata": {},
   "outputs": [],
   "source": [
    "## Use Cases for Lemmatization\n",
    "# 1. Text Preprocessing: Lemmatization is commonly used in text preprocessing to reduce words to their base forms, making it easier to analyze and compare text data.\n",
    "# 2. Information Retrieval: In search engines, lemmatization helps improve search results by matching different forms of a word to its base form.\n",
    "# 3. Sentiment Analysis: Lemmatization can enhance sentiment analysis by ensuring that different forms of a word are treated as the same entity, improving the accuracy of sentiment classification.\n",
    "# 4. Machine Translation: In machine translation, lemmatization helps in translating words to their base forms, improving the quality of translations.\n"
   ]
  },
  {
   "cell_type": "code",
   "execution_count": 2,
   "id": "d380c9e8",
   "metadata": {},
   "outputs": [],
   "source": [
    "words = [\"running\", \"runner\", \"ran\", \"easily\", \"fairly\", \n",
    "\"cats\", \"cacti\", \"eating\", \"eats\", \"eaten\", \"ate\", \"eater\", \"eaters\", \"eating\", \"eats\"\n",
    "\"finally\", \"finally\", \"finalize\", \"finalizes\", \"finalizing\", \n",
    "\"finalized\", \"finalizer\", \"finalizers\"]\n"
   ]
  },
  {
   "cell_type": "code",
   "execution_count": 5,
   "id": "4e96221c",
   "metadata": {},
   "outputs": [
    {
     "name": "stderr",
     "output_type": "stream",
     "text": [
      "[nltk_data] Downloading package wordnet to\n",
      "[nltk_data]     /Users/bhaveshg/nltk_data...\n"
     ]
    },
    {
     "data": {
      "text/plain": [
       "True"
      ]
     },
     "execution_count": 5,
     "metadata": {},
     "output_type": "execute_result"
    }
   ],
   "source": [
    "import nltk\n",
    "nltk.download('wordnet')"
   ]
  },
  {
   "cell_type": "code",
   "execution_count": 6,
   "id": "7d9f55d0",
   "metadata": {},
   "outputs": [
    {
     "name": "stdout",
     "output_type": "stream",
     "text": [
      "Lemmatized form of 'running': running\n",
      "Lemmatized form of 'runner': runner\n",
      "Lemmatized form of 'ran': ran\n",
      "Lemmatized form of 'easily': easily\n",
      "Lemmatized form of 'fairly': fairly\n",
      "Lemmatized form of 'cats': cat\n",
      "Lemmatized form of 'cacti': cactus\n",
      "Lemmatized form of 'eating': eating\n",
      "Lemmatized form of 'eats': eats\n",
      "Lemmatized form of 'eaten': eaten\n",
      "Lemmatized form of 'ate': ate\n",
      "Lemmatized form of 'eater': eater\n",
      "Lemmatized form of 'eaters': eater\n",
      "Lemmatized form of 'eating': eating\n",
      "Lemmatized form of 'eatsfinally': eatsfinally\n",
      "Lemmatized form of 'finally': finally\n",
      "Lemmatized form of 'finalize': finalize\n",
      "Lemmatized form of 'finalizes': finalizes\n",
      "Lemmatized form of 'finalizing': finalizing\n",
      "Lemmatized form of 'finalized': finalized\n",
      "Lemmatized form of 'finalizer': finalizer\n",
      "Lemmatized form of 'finalizers': finalizers\n"
     ]
    }
   ],
   "source": [
    "## WordNetLemmatizer\n",
    "from nltk.stem import WordNetLemmatizer\n",
    "word_net_lemmatizer = WordNetLemmatizer()\n",
    "for word in words:\n",
    "    print(f\"Lemmatized form of '{word}': {word_net_lemmatizer.lemmatize(word)}\")"
   ]
  },
  {
   "cell_type": "code",
   "execution_count": 12,
   "id": "57d31a07",
   "metadata": {},
   "outputs": [
    {
     "name": "stdout",
     "output_type": "stream",
     "text": [
      "go\n",
      "good\n",
      "cat\n",
      "cactus\n",
      "eat\n",
      "finally\n"
     ]
    }
   ],
   "source": [
    "## POS Tagging\n",
    "# The lemmatizer can also take a part of speech (POS) tag to improve accuracy.\n",
    "# valid POS tags include 'n' for noun, 'v' for verb, 'a' for adjective, and 'r' for adverb.\n",
    "print(word_net_lemmatizer.lemmatize(\"going\", pos='v')) # 'go'\n",
    "print(word_net_lemmatizer.lemmatize(\"better\", pos='a')) # 'good'\n",
    "print(word_net_lemmatizer.lemmatize(\"cats\", pos='n')) # 'cat'\n",
    "print(word_net_lemmatizer.lemmatize(\"cacti\", pos='n')) # 'cactus'\n",
    "print(word_net_lemmatizer.lemmatize(\"eating\", pos='v')) # 'eat'\n",
    "# adverb example\n",
    "print(word_net_lemmatizer.lemmatize(\"finally\", pos='r')) # 'finally'"
   ]
  },
  {
   "cell_type": "code",
   "execution_count": 13,
   "id": "bd6479bf",
   "metadata": {},
   "outputs": [
    {
     "name": "stdout",
     "output_type": "stream",
     "text": [
      "Lemmatized form of 'running': run\n",
      "Lemmatized form of 'runner': runner\n",
      "Lemmatized form of 'ran': run\n",
      "Lemmatized form of 'easily': easily\n",
      "Lemmatized form of 'fairly': fairly\n",
      "Lemmatized form of 'cats': cat\n",
      "Lemmatized form of 'cacti': cacti\n",
      "Lemmatized form of 'eating': eat\n",
      "Lemmatized form of 'eats': eat\n",
      "Lemmatized form of 'eaten': eat\n",
      "Lemmatized form of 'ate': eat\n",
      "Lemmatized form of 'eater': eater\n",
      "Lemmatized form of 'eaters': eaters\n",
      "Lemmatized form of 'eating': eat\n",
      "Lemmatized form of 'eatsfinally': eatsfinally\n",
      "Lemmatized form of 'finally': finally\n",
      "Lemmatized form of 'finalize': finalize\n",
      "Lemmatized form of 'finalizes': finalize\n",
      "Lemmatized form of 'finalizing': finalize\n",
      "Lemmatized form of 'finalized': finalize\n",
      "Lemmatized form of 'finalizer': finalizer\n",
      "Lemmatized form of 'finalizers': finalizers\n"
     ]
    }
   ],
   "source": [
    "## WordNetLemmatizer\n",
    "from nltk.stem import WordNetLemmatizer\n",
    "word_net_lemmatizer = WordNetLemmatizer()\n",
    "for word in words:\n",
    "    print(f\"Lemmatized form of '{word}': {word_net_lemmatizer.lemmatize(word, pos='v')}\")"
   ]
  },
  {
   "cell_type": "code",
   "execution_count": null,
   "id": "9d8cf9dd",
   "metadata": {},
   "outputs": [],
   "source": []
  }
 ],
 "metadata": {
  "kernelspec": {
   "display_name": "Python 3",
   "language": "python",
   "name": "python3"
  },
  "language_info": {
   "codemirror_mode": {
    "name": "ipython",
    "version": 3
   },
   "file_extension": ".py",
   "mimetype": "text/x-python",
   "name": "python",
   "nbconvert_exporter": "python",
   "pygments_lexer": "ipython3",
   "version": "3.12.9"
  }
 },
 "nbformat": 4,
 "nbformat_minor": 5
}
