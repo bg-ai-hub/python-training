{
  "cells": [
    {
      "cell_type": "code",
      "execution_count": 1,
      "id": "8b98facd",
      "metadata": {
        "id": "8b98facd"
      },
      "outputs": [],
      "source": [
        "corpus = \"\"\"\n",
        "Natural Language Processing (NLP) is a sub-field of AI.\n",
        "It deals with interactions between computers and human languages.\n",
        "\"\"\""
      ]
    },
    {
      "cell_type": "code",
      "execution_count": 2,
      "id": "d1e44c75",
      "metadata": {
        "colab": {
          "base_uri": "https://localhost:8080/"
        },
        "id": "d1e44c75",
        "outputId": "b39c6818-0b2f-412a-e7a2-57bc10f5c212"
      },
      "outputs": [
        {
          "output_type": "stream",
          "name": "stdout",
          "text": [
            "\n",
            "Natural Language Processing (NLP) is a sub-field of AI.\n",
            "It deals with interactions between computers and human languages.\n",
            "\n"
          ]
        }
      ],
      "source": [
        "print(corpus)"
      ]
    },
    {
      "cell_type": "code",
      "execution_count": 5,
      "id": "6fb1379c",
      "metadata": {
        "colab": {
          "base_uri": "https://localhost:8080/"
        },
        "id": "6fb1379c",
        "outputId": "17c5f2de-8288-4dec-bf52-d96a733d9011"
      },
      "outputs": [
        {
          "output_type": "stream",
          "name": "stderr",
          "text": [
            "[nltk_data] Downloading package punkt_tab to /root/nltk_data...\n",
            "[nltk_data]   Unzipping tokenizers/punkt_tab.zip.\n"
          ]
        },
        {
          "output_type": "execute_result",
          "data": {
            "text/plain": [
              "True"
            ]
          },
          "metadata": {},
          "execution_count": 5
        }
      ],
      "source": [
        "import nltk\n",
        "nltk.download('punkt_tab')"
      ]
    },
    {
      "cell_type": "code",
      "execution_count": 6,
      "id": "22d46f1c",
      "metadata": {
        "colab": {
          "base_uri": "https://localhost:8080/"
        },
        "id": "22d46f1c",
        "outputId": "288c3db0-0d84-4721-afea-d951c0db782b"
      },
      "outputs": [
        {
          "output_type": "stream",
          "name": "stdout",
          "text": [
            "['\\nNatural Language Processing (NLP) is a sub-field of AI.', 'It deals with interactions between computers and human languages.']\n"
          ]
        }
      ],
      "source": [
        "## Tokenization\n",
        "## Paragraph to Sentence\n",
        "from nltk.tokenize import sent_tokenize\n",
        "sentences = sent_tokenize(corpus)\n",
        "print(sentences)\n"
      ]
    },
    {
      "cell_type": "code",
      "execution_count": null,
      "id": "a4cbd48f",
      "metadata": {
        "id": "a4cbd48f"
      },
      "outputs": [],
      "source": []
    }
  ],
  "metadata": {
    "kernelspec": {
      "display_name": "Python 3",
      "language": "python",
      "name": "python3"
    },
    "language_info": {
      "codemirror_mode": {
        "name": "ipython",
        "version": 3
      },
      "file_extension": ".py",
      "mimetype": "text/x-python",
      "name": "python",
      "nbconvert_exporter": "python",
      "pygments_lexer": "ipython3",
      "version": "3.12.9"
    },
    "colab": {
      "provenance": []
    }
  },
  "nbformat": 4,
  "nbformat_minor": 5
}