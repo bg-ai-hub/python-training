{
  "cells": [
    {
      "cell_type": "code",
      "execution_count": 17,
      "id": "8b98facd",
      "metadata": {
        "id": "8b98facd"
      },
      "outputs": [],
      "source": [
        "corpus = \"\"\"\n",
        "Natural Language Processing (NLP) is a sub-field of AI.\n",
        "It deals with interactions between computers and human languages.\n",
        "NLP is used in various applications such as chatbots, translation services, and sentiment analysis.\n",
        "The field has seen significant advancements in recent years, particularly with the advent of deep learning techniques.\n",
        "\"\"\""
      ]
    },
    {
      "cell_type": "code",
      "execution_count": 18,
      "id": "d1e44c75",
      "metadata": {
        "colab": {
          "base_uri": "https://localhost:8080/"
        },
        "id": "d1e44c75",
        "outputId": "b39c6818-0b2f-412a-e7a2-57bc10f5c212"
      },
      "outputs": [
        {
          "name": "stdout",
          "output_type": "stream",
          "text": [
            "\n",
            "Natural Language Processing (NLP) is a sub-field of AI.\n",
            "It deals with interactions between computers and human languages.\n",
            "NLP is used in various applications such as chatbots, translation services, and sentiment analysis.\n",
            "The field has seen significant advancements in recent years, particularly with the advent of deep learning techniques.\n",
            "\n"
          ]
        }
      ],
      "source": [
        "print(corpus)"
      ]
    },
    {
      "cell_type": "code",
      "execution_count": 19,
      "id": "6fb1379c",
      "metadata": {
        "colab": {
          "base_uri": "https://localhost:8080/"
        },
        "id": "6fb1379c",
        "outputId": "17c5f2de-8288-4dec-bf52-d96a733d9011"
      },
      "outputs": [
        {
          "name": "stderr",
          "output_type": "stream",
          "text": [
            "[nltk_data] Downloading package punkt_tab to\n",
            "[nltk_data]     /Users/bhaveshg/nltk_data...\n",
            "[nltk_data]   Package punkt_tab is already up-to-date!\n"
          ]
        },
        {
          "data": {
            "text/plain": [
              "True"
            ]
          },
          "execution_count": 19,
          "metadata": {},
          "output_type": "execute_result"
        }
      ],
      "source": [
        "import nltk\n",
        "nltk.download('punkt_tab')"
      ]
    },
    {
      "cell_type": "code",
      "execution_count": 20,
      "id": "22d46f1c",
      "metadata": {
        "colab": {
          "base_uri": "https://localhost:8080/"
        },
        "id": "22d46f1c",
        "outputId": "288c3db0-0d84-4721-afea-d951c0db782b"
      },
      "outputs": [
        {
          "data": {
            "text/plain": [
              "['\\nNatural Language Processing (NLP) is a sub-field of AI.',\n",
              " 'It deals with interactions between computers and human languages.',\n",
              " 'NLP is used in various applications such as chatbots, translation services, and sentiment analysis.',\n",
              " 'The field has seen significant advancements in recent years, particularly with the advent of deep learning techniques.']"
            ]
          },
          "execution_count": 20,
          "metadata": {},
          "output_type": "execute_result"
        }
      ],
      "source": [
        "## Tokenization\n",
        "## Paragraph to Sentence\n",
        "from nltk.tokenize import sent_tokenize\n",
        "documents = sent_tokenize(corpus)\n",
        "documents\n"
      ]
    },
    {
      "cell_type": "code",
      "execution_count": 21,
      "id": "a4cbd48f",
      "metadata": {
        "id": "a4cbd48f"
      },
      "outputs": [
        {
          "name": "stdout",
          "output_type": "stream",
          "text": [
            "\n",
            "Natural Language Processing (NLP) is a sub-field of AI.\n",
            "It deals with interactions between computers and human languages.\n",
            "NLP is used in various applications such as chatbots, translation services, and sentiment analysis.\n",
            "The field has seen significant advancements in recent years, particularly with the advent of deep learning techniques.\n"
          ]
        }
      ],
      "source": [
        "for sent in documents:\n",
        "    print(sent)\n",
        "    # Tokenize each sentence into words\n",
        "    "
      ]
    },
    {
      "cell_type": "code",
      "execution_count": 23,
      "id": "a0eb5695",
      "metadata": {},
      "outputs": [
        {
          "data": {
            "text/plain": [
              "['Natural',\n",
              " 'Language',\n",
              " 'Processing',\n",
              " '(',\n",
              " 'NLP',\n",
              " ')',\n",
              " 'is',\n",
              " 'a',\n",
              " 'sub-field',\n",
              " 'of',\n",
              " 'AI',\n",
              " '.',\n",
              " 'It',\n",
              " 'deals',\n",
              " 'with',\n",
              " 'interactions',\n",
              " 'between',\n",
              " 'computers',\n",
              " 'and',\n",
              " 'human',\n",
              " 'languages',\n",
              " '.',\n",
              " 'NLP',\n",
              " 'is',\n",
              " 'used',\n",
              " 'in',\n",
              " 'various',\n",
              " 'applications',\n",
              " 'such',\n",
              " 'as',\n",
              " 'chatbots',\n",
              " ',',\n",
              " 'translation',\n",
              " 'services',\n",
              " ',',\n",
              " 'and',\n",
              " 'sentiment',\n",
              " 'analysis',\n",
              " '.',\n",
              " 'The',\n",
              " 'field',\n",
              " 'has',\n",
              " 'seen',\n",
              " 'significant',\n",
              " 'advancements',\n",
              " 'in',\n",
              " 'recent',\n",
              " 'years',\n",
              " ',',\n",
              " 'particularly',\n",
              " 'with',\n",
              " 'the',\n",
              " 'advent',\n",
              " 'of',\n",
              " 'deep',\n",
              " 'learning',\n",
              " 'techniques',\n",
              " '.']"
            ]
          },
          "execution_count": 23,
          "metadata": {},
          "output_type": "execute_result"
        }
      ],
      "source": [
        "## Tokenization\n",
        "## Paragraph to words\n",
        "\n",
        "from nltk.tokenize import word_tokenize\n",
        "words = word_tokenize(corpus)\n",
        "words"
      ]
    },
    {
      "cell_type": "code",
      "execution_count": 25,
      "id": "682464b3",
      "metadata": {},
      "outputs": [
        {
          "name": "stdout",
          "output_type": "stream",
          "text": [
            "\n",
            "Natural Language Processing (NLP) is a sub-field of AI.\n",
            "['Natural', 'Language', 'Processing', '(', 'NLP', ')', 'is', 'a', 'sub-field', 'of', 'AI', '.']\n",
            "Number of tokens: 12\n",
            "\n",
            "It deals with interactions between computers and human languages.\n",
            "['It', 'deals', 'with', 'interactions', 'between', 'computers', 'and', 'human', 'languages', '.']\n",
            "Number of tokens: 10\n",
            "\n",
            "NLP is used in various applications such as chatbots, translation services, and sentiment analysis.\n",
            "['NLP', 'is', 'used', 'in', 'various', 'applications', 'such', 'as', 'chatbots', ',', 'translation', 'services', ',', 'and', 'sentiment', 'analysis', '.']\n",
            "Number of tokens: 17\n",
            "\n",
            "The field has seen significant advancements in recent years, particularly with the advent of deep learning techniques.\n",
            "['The', 'field', 'has', 'seen', 'significant', 'advancements', 'in', 'recent', 'years', ',', 'particularly', 'with', 'the', 'advent', 'of', 'deep', 'learning', 'techniques', '.']\n",
            "Number of tokens: 19\n",
            "\n"
          ]
        }
      ],
      "source": [
        "## sentence to words\n",
        "for sent in documents:\n",
        "    print(sent)\n",
        "    # Tokenize each sentence into words\n",
        "    words = nltk.word_tokenize(sent)\n",
        "    print(words)\n",
        "    # Print the number of tokens\n",
        "    print(\"Number of tokens:\", len(words))\n",
        "    print()"
      ]
    },
    {
      "cell_type": "code",
      "execution_count": null,
      "id": "f829aecd",
      "metadata": {},
      "outputs": [
        {
          "name": "stdout",
          "output_type": "stream",
          "text": [
            "\n",
            "Natural Language Processing (NLP) is a sub-field of AI.\n",
            "['Natural', 'Language', 'Processing', '(', 'NLP', ')', 'is', 'a', 'sub', '-', 'field', 'of', 'AI', '.']\n",
            "Number of tokens: 14\n",
            "\n",
            "It deals with interactions between computers and human languages.\n",
            "['It', 'deals', 'with', 'interactions', 'between', 'computers', 'and', 'human', 'languages', '.']\n",
            "Number of tokens: 10\n",
            "\n",
            "NLP is used in various applications such as chatbots, translation services, and sentiment analysis.\n",
            "['NLP', 'is', 'used', 'in', 'various', 'applications', 'such', 'as', 'chatbots', ',', 'translation', 'services', ',', 'and', 'sentiment', 'analysis', '.']\n",
            "Number of tokens: 17\n",
            "\n",
            "The field has seen significant advancements in recent years, particularly with the advent of deep learning techniques.\n",
            "['The', 'field', 'has', 'seen', 'significant', 'advancements', 'in', 'recent', 'years', ',', 'particularly', 'with', 'the', 'advent', 'of', 'deep', 'learning', 'techniques', '.']\n",
            "Number of tokens: 19\n",
            "\n"
          ]
        }
      ],
      "source": [
        "## wordpunct_tokenize\n",
        "from nltk.tokenize import wordpunct_tokenize\n",
        "## sentence to words\n",
        "for sent in documents:\n",
        "    print(sent)\n",
        "    # Tokenize each sentence into words\n",
        "    words = nltk.wordpunct_tokenize(sent)\n",
        "    print(words)\n",
        "    # Print the number of tokens\n",
        "    print(\"Number of tokens:\", len(words))\n",
        "    print()"
      ]
    },
    {
      "cell_type": "code",
      "execution_count": 35,
      "id": "cda7b5d3",
      "metadata": {},
      "outputs": [
        {
          "name": "stdout",
          "output_type": "stream",
          "text": [
            "\n",
            "Natural Language Processing (NLP) is a sub-field of AI.\n",
            "['Natural', 'Language', 'Processing', '(', 'NLP', ')', 'is', 'a', 'sub-field', 'of', 'AI', '.']\n",
            "Number of tokens: 12\n",
            "\n",
            "It deals with interactions between computers and human languages.\n",
            "['It', 'deals', 'with', 'interactions', 'between', 'computers', 'and', 'human', 'languages', '.']\n",
            "Number of tokens: 10\n",
            "\n",
            "NLP is used in various applications such as chatbots, translation services, and sentiment analysis.\n",
            "['NLP', 'is', 'used', 'in', 'various', 'applications', 'such', 'as', 'chatbots', ',', 'translation', 'services', ',', 'and', 'sentiment', 'analysis', '.']\n",
            "Number of tokens: 17\n",
            "\n",
            "The field has seen significant advancements in recent years, particularly with the advent of deep learning techniques.\n",
            "['The', 'field', 'has', 'seen', 'significant', 'advancements', 'in', 'recent', 'years', ',', 'particularly', 'with', 'the', 'advent', 'of', 'deep', 'learning', 'techniques', '.']\n",
            "Number of tokens: 19\n",
            "\n"
          ]
        }
      ],
      "source": [
        "from nltk.tokenize import TreebankWordTokenizer\n",
        "## sentence to words\n",
        "for sent in documents:\n",
        "    print(sent)\n",
        "    # Tokenize each sentence into words\n",
        "    words = nltk.TreebankWordTokenizer().tokenize(sent)\n",
        "    print(words)\n",
        "    # Print the number of tokens\n",
        "    print(\"Number of tokens:\", len(words))\n",
        "    print()"
      ]
    },
    {
      "cell_type": "code",
      "execution_count": null,
      "id": "cb44057c",
      "metadata": {},
      "outputs": [],
      "source": []
    }
  ],
  "metadata": {
    "colab": {
      "provenance": []
    },
    "kernelspec": {
      "display_name": "Python 3",
      "language": "python",
      "name": "python3"
    },
    "language_info": {
      "codemirror_mode": {
        "name": "ipython",
        "version": 3
      },
      "file_extension": ".py",
      "mimetype": "text/x-python",
      "name": "python",
      "nbconvert_exporter": "python",
      "pygments_lexer": "ipython3",
      "version": "3.12.9"
    }
  },
  "nbformat": 4,
  "nbformat_minor": 5
}
