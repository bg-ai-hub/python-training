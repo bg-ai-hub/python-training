{
 "cells": [
  {
   "cell_type": "code",
   "execution_count": 1,
   "id": "22bc38b3",
   "metadata": {},
   "outputs": [],
   "source": [
    "## Stemming in NLP\n",
    "# Stemming is the process of reducing a word to its base or root form.\n",
    "# For example, the words \"running\", \"runner\", and \"ran\" can all be reduced to the root word \"run\".\n",
    "# This is useful in natural language processing (NLP) because it allows us to treat different forms of a word as the same word."
   ]
  },
  {
   "cell_type": "code",
   "execution_count": null,
   "id": "7561ceac",
   "metadata": {},
   "outputs": [],
   "source": [
    "words = [\"running\", \"runner\", \"ran\", \"easily\", \"fairly\", \n",
    "\"cats\", \"cacti\", \"eating\", \"eats\", \"eaten\", \"ate\", \"eater\", \"eaters\", \"eating\", \"eats\"\n",
    "\"finally\", \"finally\", \"finalize\", \"finalizes\", \"finalizing\", \n",
    "\"finalized\", \"finalizer\", \"finalizers\"]\n"
   ]
  },
  {
   "cell_type": "code",
   "execution_count": 3,
   "id": "727afedf",
   "metadata": {},
   "outputs": [
    {
     "name": "stdout",
     "output_type": "stream",
     "text": [
      "running -> run\n",
      "runner -> runner\n",
      "ran -> ran\n",
      "easily -> easili\n",
      "fairly -> fairli\n",
      "cats -> cat\n",
      "cacti -> cacti\n",
      "eating -> eat\n",
      "eats -> eat\n",
      "eaten -> eaten\n",
      "ate -> ate\n",
      "eater -> eater\n",
      "eaters -> eater\n",
      "eating -> eat\n",
      "eatsfinally -> eatsfin\n",
      "finally -> final\n",
      "finalize -> final\n",
      "finalizes -> final\n",
      "finalizing -> final\n",
      "finalized -> final\n",
      "finalizer -> final\n",
      "finalizers -> final\n",
      "\n",
      "\n"
     ]
    }
   ],
   "source": [
    "## Porter Stemmer\n",
    "# The Porter Stemmer is a widely used algorithm for stemming words in English.\n",
    "# It works by applying a set of rules to the word to reduce it to its root form.\n",
    "from nltk.stem import PorterStemmer\n",
    "stemmer = PorterStemmer()\n",
    "for word in words:\n",
    "    print(f\"{word} -> {stemmer.stem(word)}\")\n",
    "print(\"\\n\")"
   ]
  },
  {
   "cell_type": "code",
   "execution_count": 4,
   "id": "890b3773",
   "metadata": {},
   "outputs": [
    {
     "data": {
      "text/plain": [
       "'congratul'"
      ]
     },
     "execution_count": 4,
     "metadata": {},
     "output_type": "execute_result"
    }
   ],
   "source": [
    "stemmer.stem(\"congratulations\")"
   ]
  },
  {
   "cell_type": "code",
   "execution_count": 5,
   "id": "1248e519",
   "metadata": {},
   "outputs": [
    {
     "data": {
      "text/plain": [
       "'sit'"
      ]
     },
     "execution_count": 5,
     "metadata": {},
     "output_type": "execute_result"
    }
   ],
   "source": [
    "stemmer.stem(\"sitting\")"
   ]
  },
  {
   "cell_type": "code",
   "execution_count": null,
   "id": "5f6b4a5d",
   "metadata": {},
   "outputs": [
    {
     "name": "stdout",
     "output_type": "stream",
     "text": [
      "running -> runn\n",
      "runner -> runner\n",
      "ran -> ran\n",
      "easily -> easily\n",
      "fairly -> fairly\n",
      "cats -> cat\n",
      "cacti -> cacti\n",
      "eating -> eat\n",
      "eats -> eat\n",
      "eaten -> eaten\n",
      "ate -> ate\n",
      "eater -> eater\n",
      "eaters -> eater\n",
      "eating -> eat\n",
      "eatsfinally -> eatsfinally\n",
      "finally -> finally\n",
      "finalize -> finaliz\n",
      "finalizes -> finaliz\n",
      "finalizing -> finaliz\n",
      "finalized -> finaliz\n",
      "finalizer -> finalizer\n",
      "finalizers -> finalizer\n",
      "\n",
      "\n"
     ]
    }
   ],
   "source": [
    "## RegexStemmer\n",
    "# The RegexStemmer is a more flexible stemming algorithm that uses regular expressions to match patterns in words.\n",
    "from nltk.stem import RegexpStemmer\n",
    "stemmer = RegexpStemmer(\"ing$|s$|e$|able$|es$|ed$|$ble\", min=4)\n",
    "# The min parameter specifies the minimum length of the word to be stemmed.\n",
    "# The regex pattern specifies the suffixes to be removed from the word.\n",
    "for word in words:\n",
    "    print(f\"{word} -> {stemmer.stem(word)}\")\n",
    "print(\"\\n\")"
   ]
  },
  {
   "cell_type": "code",
   "execution_count": 9,
   "id": "ff8cb06b",
   "metadata": {},
   "outputs": [
    {
     "data": {
      "text/plain": [
       "'edibl'"
      ]
     },
     "execution_count": 9,
     "metadata": {},
     "output_type": "execute_result"
    }
   ],
   "source": [
    "stemmer.stem(\"edible\")"
   ]
  },
  {
   "cell_type": "code",
   "execution_count": null,
   "id": "4d434dd8",
   "metadata": {},
   "outputs": [],
   "source": []
  }
 ],
 "metadata": {
  "kernelspec": {
   "display_name": "Python 3",
   "language": "python",
   "name": "python3"
  },
  "language_info": {
   "codemirror_mode": {
    "name": "ipython",
    "version": 3
   },
   "file_extension": ".py",
   "mimetype": "text/x-python",
   "name": "python",
   "nbconvert_exporter": "python",
   "pygments_lexer": "ipython3",
   "version": "3.12.9"
  }
 },
 "nbformat": 4,
 "nbformat_minor": 5
}
