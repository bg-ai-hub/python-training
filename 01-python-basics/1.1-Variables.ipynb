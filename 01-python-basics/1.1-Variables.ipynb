{
 "cells": [
  {
   "cell_type": "code",
   "execution_count": null,
   "metadata": {},
   "outputs": [],
   "source": [
    "a = 100"
   ]
  },
  {
   "cell_type": "code",
   "execution_count": 2,
   "metadata": {},
   "outputs": [
    {
     "name": "stdout",
     "output_type": "stream",
     "text": [
      "age : 32\n",
      "height : 5.8\n",
      "name : Bhavesh\n",
      "is_student : True\n"
     ]
    }
   ],
   "source": [
    "## Declaring and assigning a value to a variable\n",
    "age = 32\n",
    "height = 5.8\n",
    "name = \"Bhavesh\"\n",
    "is_student = True\n",
    "\n",
    "## Printing the value of a variable\n",
    "print(\"age :\", age)\n",
    "print(\"height :\", height)\n",
    "print(\"name :\", name)\n",
    "print(\"is_student :\", is_student)  "
   ]
  },
  {
   "cell_type": "code",
   "execution_count": null,
   "metadata": {},
   "outputs": [],
   "source": [
    "## Naming convention for variables\n",
    "## 1. Variable name should start with a letter or underscore\n",
    "## 2. Variable name should not start with a number\n",
    "## 3. Variable name should be descriptive\n",
    "## 4. Variable name should not be a keyword\n",
    "## 5. Variable name can contain letters, numbers and underscores\n",
    "\n",
    "## Valid variable names\n",
    "first_name = \"Bhavesh\"\n",
    "last_name = \"Gawade\"\n",
    "\n",
    "## Invalid variable names\n",
    "#2age = 30\n",
    "#first-name = \"Bhavesh\"\n",
    "#first name = \"Bhavesh\"\n",
    "#class = \"Python\"\n",
    "#@age = 30\n",
    "#age@ = 30"
   ]
  },
  {
   "cell_type": "code",
   "execution_count": 4,
   "metadata": {},
   "outputs": [
    {
     "name": "stdout",
     "output_type": "stream",
     "text": [
      "Type of age : <class 'int'>\n",
      "Type of height : <class 'float'>\n",
      "Type of name : <class 'str'>\n",
      "Type of is_student : <class 'bool'>\n"
     ]
    }
   ],
   "source": [
    "## Understanding variable types\n",
    "## Python is dynamically typed language.\n",
    "## Type of variable is determined at runtime.\n",
    "\n",
    "age = 25\n",
    "height = 6.1\n",
    "name = \"Bhavesh\"\n",
    "is_student = True\n",
    "\n",
    "print(\"Type of age :\", type(age)) ## <class 'int'>\n",
    "print(\"Type of height :\", type(height)) ## <class 'float'>\n",
    "print(\"Type of name :\", type(name)) ## <class 'str'>\n",
    "print(\"Type of is_student :\", type(is_student)) ## <class 'bool'>\n"
   ]
  },
  {
   "cell_type": "code",
   "execution_count": 5,
   "metadata": {},
   "outputs": [
    {
     "data": {
      "text/plain": [
       "float"
      ]
     },
     "execution_count": 5,
     "metadata": {},
     "output_type": "execute_result"
    }
   ],
   "source": [
    "## Type checking and conversion\n",
    "\n",
    "type(height)\n"
   ]
  },
  {
   "cell_type": "code",
   "execution_count": 7,
   "metadata": {},
   "outputs": [
    {
     "name": "stdout",
     "output_type": "stream",
     "text": [
      "25 <class 'int'>\n",
      "25 <class 'str'>\n"
     ]
    }
   ],
   "source": [
    "age = 25\n",
    "print(age,type(age)) ## <class 'int'>   \n",
    "age_str = str(age)\n",
    "print(age_str,type(age_str)) ## 25 <class 'str'>"
   ]
  },
  {
   "cell_type": "code",
   "execution_count": 8,
   "metadata": {},
   "outputs": [
    {
     "name": "stdout",
     "output_type": "stream",
     "text": [
      "<class 'int'>\n"
     ]
    }
   ],
   "source": [
    "age = '25'\n",
    "print(type(int(age)))"
   ]
  },
  {
   "cell_type": "code",
   "execution_count": 9,
   "metadata": {},
   "outputs": [
    {
     "ename": "ValueError",
     "evalue": "invalid literal for int() with base 10: 'my name is Bhavesh'",
     "output_type": "error",
     "traceback": [
      "\u001b[0;31m---------------------------------------------------------------------------\u001b[0m",
      "\u001b[0;31mValueError\u001b[0m                                Traceback (most recent call last)",
      "Cell \u001b[0;32mIn[9], line 2\u001b[0m\n\u001b[1;32m      1\u001b[0m name \u001b[38;5;241m=\u001b[39m \u001b[38;5;124m'\u001b[39m\u001b[38;5;124mmy name is Bhavesh\u001b[39m\u001b[38;5;124m'\u001b[39m\n\u001b[0;32m----> 2\u001b[0m \u001b[38;5;28mprint\u001b[39m(\u001b[38;5;28mtype\u001b[39m(\u001b[38;5;28;43mint\u001b[39;49m\u001b[43m(\u001b[49m\u001b[43mname\u001b[49m\u001b[43m)\u001b[49m))\n",
      "\u001b[0;31mValueError\u001b[0m: invalid literal for int() with base 10: 'my name is Bhavesh'"
     ]
    }
   ],
   "source": [
    "name = 'my name is Bhavesh'\n",
    "print(type(int(name)))"
   ]
  },
  {
   "cell_type": "code",
   "execution_count": 13,
   "metadata": {},
   "outputs": [
    {
     "name": "stdout",
     "output_type": "stream",
     "text": [
      "5.8 <class 'float'>\n",
      "5 <class 'int'>\n",
      "5.0 <class 'float'>\n"
     ]
    }
   ],
   "source": [
    "height = 5.8\n",
    "print(height,type(height)) ## <class 'float'>\n",
    "height_int = int(height)\n",
    "print(height_int,type(height_int)) ## 5 <class 'int'> \n",
    "height = float(height_int)\n",
    "print(height,type(height)) ## 5.0 <class 'float'>"
   ]
  },
  {
   "cell_type": "code",
   "execution_count": 1,
   "metadata": {},
   "outputs": [
    {
     "name": "stdout",
     "output_type": "stream",
     "text": [
      "10 <class 'int'>\n",
      "abc <class 'str'>\n",
      "9.7 <class 'float'>\n"
     ]
    }
   ],
   "source": [
    "#Dynamic Typing\n",
    "var = 10\n",
    "print(var,type(var)) ## 10 <class 'int'>\n",
    "\n",
    "var = \"abc\"\n",
    "print(var,type(var))\n",
    "\n",
    "var = 9.7\n",
    "print(var,type(var))"
   ]
  },
  {
   "cell_type": "code",
   "execution_count": null,
   "metadata": {},
   "outputs": [
    {
     "name": "stdout",
     "output_type": "stream",
     "text": [
      "Your age is : 23 <class 'int'>\n"
     ]
    }
   ],
   "source": [
    "## input\n",
    "age= input(\"Enter your age : \")\n",
    "print(\"Your age is :\",age, type(age))"
   ]
  },
  {
   "cell_type": "code",
   "execution_count": 5,
   "metadata": {},
   "outputs": [
    {
     "name": "stdout",
     "output_type": "stream",
     "text": [
      "Your age is : 23 <class 'int'>\n"
     ]
    }
   ],
   "source": [
    "## input\n",
    "age= int(input(\"Enter your age : \"))\n",
    "print(\"Your age is :\",age, type(age))"
   ]
  },
  {
   "cell_type": "code",
   "execution_count": 6,
   "metadata": {},
   "outputs": [
    {
     "name": "stdout",
     "output_type": "stream",
     "text": [
      "Sum of 56.0 and 10.0 is 66.0\n",
      "Difference of 56.0 and 10.0 is 46.0\n",
      "Product of 56.0 and 10.0 is 560.0\n",
      "Quotient of 56.0 and 10.0 is 5.6\n"
     ]
    }
   ],
   "source": [
    "#simple calculator\n",
    "num1 = float(input(\"Enter first number : \"))\n",
    "num2 = float(input(\"Enter second number : \"))\n",
    "\n",
    "sum = num1 + num2\n",
    "diff = num1 - num2\n",
    "product = num1 * num2\n",
    "quotient = num1 / num2\n",
    "\n",
    "print(\"Sum of\",num1,\"and\",num2,\"is\",sum)\n",
    "print(\"Difference of\",num1,\"and\",num2,\"is\",diff)\n",
    "print(\"Product of\",num1,\"and\",num2,\"is\",product)\n",
    "print(\"Quotient of\",num1,\"and\",num2,\"is\",quotient)"
   ]
  }
 ],
 "metadata": {
  "kernelspec": {
   "display_name": "Python 3",
   "language": "python",
   "name": "python3"
  },
  "language_info": {
   "codemirror_mode": {
    "name": "ipython",
    "version": 3
   },
   "file_extension": ".py",
   "mimetype": "text/x-python",
   "name": "python",
   "nbconvert_exporter": "python",
   "pygments_lexer": "ipython3",
   "version": "3.12.9"
  }
 },
 "nbformat": 4,
 "nbformat_minor": 2
}
