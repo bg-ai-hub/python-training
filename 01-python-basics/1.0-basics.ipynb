{
  "cells": [
    {
      "cell_type": "code",
      "execution_count": null,
      "metadata": {
        "id": "FyJufzmmHbcc",
        "outputId": "6a9871f6-3202-4a86-f0bb-4caf823f877b"
      },
      "outputs": [
        {
          "name": "stdout",
          "output_type": "stream",
          "text": [
            "Bhavesh BG\n"
          ]
        }
      ],
      "source": [
        "## Python is case sensitive.\n",
        "\n",
        "name=\"Bhavesh\"\n",
        "Name=\"BG\"\n",
        "print(name,Name)"
      ]
    },
    {
      "cell_type": "code",
      "execution_count": null,
      "metadata": {
        "id": "xiK4y5d4Hbcf",
        "outputId": "e637d105-2591-46f8-d158-83879a20e72f"
      },
      "outputs": [
        {
          "name": "stdout",
          "output_type": "stream",
          "text": [
            "You are old\n",
            "Age is 32\n"
          ]
        }
      ],
      "source": [
        "## Indentation is important in python\n",
        "## Python uses indentation to indicate a block of code.\n",
        "\n",
        "age = 32\n",
        "if age > 30:\n",
        "    print(\"You are old\")\n",
        "else:\n",
        "    print(\"You are young\")\n",
        "\n",
        "print(f\"Age is {age}\")"
      ]
    },
    {
      "cell_type": "code",
      "execution_count": null,
      "metadata": {
        "id": "zKhZHbswHbcg",
        "outputId": "040c4c4c-33bb-4531-f9bc-ee7058468eee"
      },
      "outputs": [
        {
          "name": "stdout",
          "output_type": "stream",
          "text": [
            "hello world\n"
          ]
        }
      ],
      "source": [
        "## This is single line comment\n",
        "print(\"hello world\")"
      ]
    },
    {
      "cell_type": "code",
      "execution_count": null,
      "metadata": {
        "id": "1nd3w2eVHbch",
        "outputId": "0b0767e0-17c8-4cb9-cbe4-cefecb3076ce"
      },
      "outputs": [
        {
          "name": "stdout",
          "output_type": "stream",
          "text": [
            "55\n"
          ]
        }
      ],
      "source": [
        "## Line contineuation\n",
        "total = 1+2+3+4+5+6+ \\\n",
        "        7+8+9+10\n",
        "print(total)"
      ]
    },
    {
      "cell_type": "code",
      "execution_count": null,
      "metadata": {
        "id": "5FOxlQP6Hbch",
        "outputId": "2bb2ba4d-0e4b-4c0b-b9e9-477b647b9ff2"
      },
      "outputs": [
        {
          "name": "stdout",
          "output_type": "stream",
          "text": [
            "1 2 3 6\n"
          ]
        }
      ],
      "source": [
        "## Multiple statements in single line\n",
        "x=1;y=2;z=3;a=x+y+z\n",
        "print(x,y,z,a)"
      ]
    },
    {
      "cell_type": "code",
      "execution_count": null,
      "metadata": {
        "id": "Z9H48n6pHbci",
        "outputId": "a92b7da2-002a-4cab-c348-d2a38d067ccb"
      },
      "outputs": [
        {
          "name": "stdout",
          "output_type": "stream",
          "text": [
            "Type of variable age is <class 'int'>\n",
            "Type of variable name is <class 'str'>\n"
          ]
        }
      ],
      "source": [
        "## Understanding Semantics In Python\n",
        "# Variable assignment\n",
        "age = 32\n",
        "name=\"Bhavesh\"\n",
        "print(f\"Type of variable age is {type(age)}\")\n",
        "print(f\"Type of variable name is {type(name)}\")"
      ]
    },
    {
      "cell_type": "code",
      "execution_count": null,
      "metadata": {
        "id": "EdpDFAnyHbci",
        "outputId": "7075d459-5a06-4f8d-bc90-ef6ba85d41ef"
      },
      "outputs": [
        {
          "name": "stdout",
          "output_type": "stream",
          "text": [
            "<class 'int'>\n",
            "<class 'str'>\n"
          ]
        }
      ],
      "source": [
        "## Type inference. Changing type of variable during runtime\n",
        "\n",
        "variable = 10\n",
        "print(type(variable))\n",
        "variable = \"BG\"\n",
        "print(type(variable))"
      ]
    },
    {
      "cell_type": "code",
      "execution_count": null,
      "metadata": {
        "id": "RxFMsSN2Hbcj",
        "outputId": "7438e3a9-e10f-4038-ac07-5681e6ab696f"
      },
      "outputs": [
        {
          "name": "stdout",
          "output_type": "stream",
          "text": [
            "You are old\n"
          ]
        }
      ],
      "source": [
        "age = 32\n",
        "if age > 30:\n",
        "    print(\"You are old\")"
      ]
    },
    {
      "cell_type": "code",
      "execution_count": null,
      "metadata": {
        "id": "vM6n1ZmPHbcj",
        "outputId": "a2b71d68-9f81-4a69-9425-cbebf630a22d"
      },
      "outputs": [
        {
          "ename": "NameError",
          "evalue": "name 'b' is not defined",
          "output_type": "error",
          "traceback": [
            "\u001b[0;31m---------------------------------------------------------------------------\u001b[0m",
            "\u001b[0;31mNameError\u001b[0m                                 Traceback (most recent call last)",
            "Cell \u001b[0;32mIn[15], line 1\u001b[0m\n\u001b[0;32m----> 1\u001b[0m a \u001b[38;5;241m=\u001b[39m \u001b[43mb\u001b[49m\n",
            "\u001b[0;31mNameError\u001b[0m: name 'b' is not defined"
          ]
        }
      ],
      "source": [
        "## Name Error\n",
        "a = b"
      ]
    },
    {
      "cell_type": "code",
      "execution_count": null,
      "metadata": {
        "id": "4P0rqd9-Hbcj",
        "outputId": "6e90b044-5e23-4547-fa29-549f61673280"
      },
      "outputs": [
        {
          "name": "stdout",
          "output_type": "stream",
          "text": [
            "Correct indentation\n",
            "will this print?\n",
            "outside if block\n"
          ]
        }
      ],
      "source": [
        "## Code example of indentation\n",
        "if True:\n",
        "    print(\"Correct indentation\")\n",
        "    if False:\n",
        "        print(\"This wont print\")\n",
        "    print(\"will this print?\")\n",
        "print(\"outside if block\")"
      ]
    },
    {
      "cell_type": "code",
      "source": [
        "print(\"This is test\")"
      ],
      "metadata": {
        "id": "Iyd-0F-jHcpN",
        "outputId": "dbf47c88-fae7-40d6-c67b-11d159d4348a",
        "colab": {
          "base_uri": "https://localhost:8080/"
        }
      },
      "execution_count": 1,
      "outputs": [
        {
          "output_type": "stream",
          "name": "stdout",
          "text": [
            "This is test\n"
          ]
        }
      ]
    }
  ],
  "metadata": {
    "kernelspec": {
      "display_name": "Python 3",
      "language": "python",
      "name": "python3"
    },
    "language_info": {
      "codemirror_mode": {
        "name": "ipython",
        "version": 3
      },
      "file_extension": ".py",
      "mimetype": "text/x-python",
      "name": "python",
      "nbconvert_exporter": "python",
      "pygments_lexer": "ipython3",
      "version": "3.12.9"
    },
    "colab": {
      "provenance": []
    }
  },
  "nbformat": 4,
  "nbformat_minor": 0
}