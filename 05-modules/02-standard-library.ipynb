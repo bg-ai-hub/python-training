{
 "cells": [
  {
   "cell_type": "markdown",
   "id": "3b695e2a",
   "metadata": {},
   "source": [
    "## 🧰 Python Standard Libraries – Built-In Power\n",
    "\n",
    "Python comes with a rich set of **standard libraries** that provide ready-to-use functionality without needing external installations.\n",
    "\n",
    "---\n",
    "\n",
    "### 🗂 What Are Standard Libraries?\n",
    "\n",
    "Standard libraries are **pre-installed modules** that offer:\n",
    "- 📌 Common operations (math, file handling, dates)\n",
    "- 🕸️ Internet protocols (HTTP, FTP, SMTP)\n",
    "- 🔐 Data serialization (JSON, CSV, XML)\n",
    "- 🧪 Testing and debugging tools\n",
    "- 🔄 OS and system-level interactions\n",
    "\n",
    "---\n",
    "\n",
    "### 🚀 Benefits:\n",
    "- ✅ No need for `pip install`\n",
    "- ✅ Reliable and well-documented\n",
    "- ✅ Saves time by avoiding reinventing the wheel\n",
    "\n",
    "---\n",
    "\n",
    "### 🧾 Commonly Used Standard Libraries:\n",
    "\n",
    "| Module      | Purpose                           |\n",
    "|-------------|-----------------------------------|\n",
    "| `math`      | Mathematical operations           |\n",
    "| `datetime`  | Date and time manipulation        |\n",
    "| `os`        | Interacting with the operating system |\n",
    "| `sys`       | Access to system-specific parameters |\n",
    "| `json`      | Working with JSON data            |\n",
    "| `random`    | Generating random numbers         |\n",
    "| `re`        | Regular expressions               |\n",
    "| `csv`       | Reading and writing CSV files     |\n",
    "| `logging`   | Logging messages and errors       |\n",
    "\n",
    "---\n",
    "\n",
    "### 🧪 Example:\n",
    "```python\n",
    "import math\n",
    "print(math.sqrt(25))  # Output: 5.0\n"
   ]
  },
  {
   "cell_type": "code",
   "execution_count": 1,
   "id": "0921ff94",
   "metadata": {},
   "outputs": [
    {
     "name": "stdout",
     "output_type": "stream",
     "text": [
      "array('i', [1, 2, 3, 4, 5])\n"
     ]
    }
   ],
   "source": [
    "import array\n",
    "arr = array.array('i', [1, 2, 3, 4, 5])\n",
    "print(arr)"
   ]
  },
  {
   "cell_type": "code",
   "execution_count": 2,
   "id": "1e1eb2c2",
   "metadata": {},
   "outputs": [
    {
     "name": "stdout",
     "output_type": "stream",
     "text": [
      "4.0\n",
      "3.141592653589793\n"
     ]
    }
   ],
   "source": [
    "import math\n",
    "print(math.sqrt(16))\n",
    "print(math.pi)"
   ]
  },
  {
   "cell_type": "code",
   "execution_count": 5,
   "id": "db2d3989",
   "metadata": {},
   "outputs": [
    {
     "name": "stdout",
     "output_type": "stream",
     "text": [
      "6\n",
      "fig\n"
     ]
    }
   ],
   "source": [
    "import random\n",
    "print(random.randint(1, 10))\n",
    "print(random.choice(['apple', 'banana', 'cherry', 'date', 'fig', 'grape']))"
   ]
  },
  {
   "cell_type": "code",
   "execution_count": 6,
   "id": "3eddb878",
   "metadata": {},
   "outputs": [
    {
     "name": "stdout",
     "output_type": "stream",
     "text": [
      "/Users/bhaveshg/Study/bg-ai-hub/python-training/05-modules\n",
      "['01-import.ipynb', '02-standard-library.ipynb', 'package']\n"
     ]
    }
   ],
   "source": [
    "# import OS module\n",
    "# This module provides a way of using operating system dependent functionality\n",
    "import os\n",
    "print(os.getcwd())\n",
    "print(os.listdir('.'))\n"
   ]
  },
  {
   "cell_type": "code",
   "execution_count": 7,
   "id": "9968de01",
   "metadata": {},
   "outputs": [
    {
     "data": {
      "text/plain": [
       "'destination.txt'"
      ]
     },
     "execution_count": 7,
     "metadata": {},
     "output_type": "execute_result"
    }
   ],
   "source": [
    "## High level operations on files and collections of files\n",
    "import shutil\n",
    "shutil.copy('source.txt', 'destination.txt')  # Copy a file\n"
   ]
  },
  {
   "cell_type": "code",
   "execution_count": null,
   "id": "a79c350c",
   "metadata": {},
   "outputs": [
    {
     "name": "stdout",
     "output_type": "stream",
     "text": [
      "{\"name\": \"Alice\", \"age\": 30, \"city\": \"New York\"}\n",
      "<class 'str'>\n",
      "{'name': 'Alice', 'age': 30, 'city': 'New York'}\n",
      "<class 'dict'>\n"
     ]
    }
   ],
   "source": [
    "## Data serialization\n",
    "import json\n",
    "data = {'name': 'Alice', 'age': 30, 'city': 'New York'}\n",
    "json_string = json.dumps(data)\n",
    "print(json_string)\n",
    "print(type((json_string)))\n",
    "\n",
    "# Convert JSON string back to Python object\n",
    "parsed_data = json.loads(json_string)\n",
    "print(parsed_data)\n",
    "print(type(parsed_data))\n"
   ]
  },
  {
   "cell_type": "code",
   "execution_count": 15,
   "id": "6e685a82",
   "metadata": {},
   "outputs": [
    {
     "name": "stdout",
     "output_type": "stream",
     "text": [
      "['Name', 'Age', 'City']\n",
      "['Alice', '30', 'New York']\n",
      "['Bob', '25', 'Los Angeles']\n",
      "['Charlie', '35', 'Chicago']\n"
     ]
    }
   ],
   "source": [
    "## csv module\n",
    "import csv\n",
    "# Writing to a CSV file\n",
    "with open('example.csv', mode='w', newline='') as file:\n",
    "    writer = csv.writer(file)\n",
    "    writer.writerow(['Name', 'Age', 'City'])\n",
    "    writer.writerow(['Alice', 30, 'New York'])\n",
    "    writer.writerow(['Bob', 25, 'Los Angeles'])\n",
    "    writer.writerow(['Charlie', 35, 'Chicago'])\n",
    "\n",
    "# Reading from a CSV file\n",
    "with open('example.csv', mode='r') as file:\n",
    "    reader = csv.reader(file)\n",
    "    for row in reader:\n",
    "        print(row)"
   ]
  },
  {
   "cell_type": "code",
   "execution_count": null,
   "id": "e023618a",
   "metadata": {},
   "outputs": [
    {
     "name": "stdout",
     "output_type": "stream",
     "text": [
      "Current date and time: 2025-05-09 20:08:08.040606\n",
      "Yesterday's date and time: 2025-05-08 20:08:08.040606\n"
     ]
    }
   ],
   "source": [
    "## datetime module\n",
    "from datetime import datetime, timedelta\n",
    "# Get the current date and time\n",
    "now = datetime.now()\n",
    "print(\"Current date and time:\", now)\n",
    "\n",
    "yesterday = now - timedelta(days=1)\n",
    "print(\"Yesterday's date and time:\", yesterday)\n"
   ]
  },
  {
   "cell_type": "code",
   "execution_count": 20,
   "id": "f368f506",
   "metadata": {},
   "outputs": [
    {
     "name": "stdout",
     "output_type": "stream",
     "text": [
      "1746801524.27375\n",
      "1746801526.274444\n"
     ]
    }
   ],
   "source": [
    "## time module\n",
    "import time\n",
    "print(time.time())  # Current time in seconds since the epoch\n",
    "time.sleep(2)  # Sleep for 2 seconds\n",
    "print(time.time())  # Current time in seconds since the epoch\n",
    "\n"
   ]
  },
  {
   "cell_type": "code",
   "execution_count": 22,
   "id": "b963a2c9",
   "metadata": {},
   "outputs": [
    {
     "name": "stdout",
     "output_type": "stream",
     "text": [
      "['123', '456']\n"
     ]
    }
   ],
   "source": [
    "## regular expressions\n",
    "\n",
    "import re\n",
    "pattern = r'\\d+'\n",
    "text = \"There are 123 apples and 456 oranges.\"\n",
    "matches = re.findall(pattern, text)\n",
    "print(matches)  # Output: ['123', '456']"
   ]
  },
  {
   "cell_type": "code",
   "execution_count": null,
   "id": "043cf74c",
   "metadata": {},
   "outputs": [],
   "source": []
  }
 ],
 "metadata": {
  "kernelspec": {
   "display_name": "Python 3",
   "language": "python",
   "name": "python3"
  },
  "language_info": {
   "codemirror_mode": {
    "name": "ipython",
    "version": 3
   },
   "file_extension": ".py",
   "mimetype": "text/x-python",
   "name": "python",
   "nbconvert_exporter": "python",
   "pygments_lexer": "ipython3",
   "version": "3.12.9"
  }
 },
 "nbformat": 4,
 "nbformat_minor": 5
}
