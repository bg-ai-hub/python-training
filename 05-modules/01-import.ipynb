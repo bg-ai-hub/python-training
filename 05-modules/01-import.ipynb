{
 "cells": [
  {
   "cell_type": "markdown",
   "id": "c8f01dae",
   "metadata": {},
   "source": [
    "## 📦 Importing Modules and Packages\n",
    "\n",
    "In this section, we will **import all the necessary modules and packages** required for this notebook to function correctly.\n",
    "\n",
    "---\n",
    "\n",
    "### 🔧 Why It Matters:\n",
    "- 📁 Modules provide access to **reusable code** like functions, classes, and variables.\n",
    "- 🧰 Packages help **organize code logically** across multiple files and directories.\n",
    "- ✅ Ensures all dependencies are loaded **before any data processing or computation begins**.\n",
    "\n",
    "---\n",
    "\n",
    "### 🚨 Important:\n",
    "Make sure all required libraries are **installed in your environment** before running the imports.\n",
    "\n",
    "You can install missing packages using:\n",
    "```bash\n",
    "pip install <package_name>\n"
   ]
  },
  {
   "cell_type": "code",
   "execution_count": 3,
   "id": "9f6490a1",
   "metadata": {},
   "outputs": [
    {
     "data": {
      "text/plain": [
       "2.0"
      ]
     },
     "execution_count": 3,
     "metadata": {},
     "output_type": "execute_result"
    }
   ],
   "source": [
    "import math\n",
    "math.sqrt(4)"
   ]
  },
  {
   "cell_type": "code",
   "execution_count": 6,
   "id": "3ee4f701",
   "metadata": {},
   "outputs": [
    {
     "data": {
      "text/plain": [
       "(1.7724538509055159, 2.0, 2.0, 3.141592653589793)"
      ]
     },
     "execution_count": 6,
     "metadata": {},
     "output_type": "execute_result"
    }
   ],
   "source": [
    "from math import sqrt,pi\n",
    "sqrt(pi), sqrt(4), sqrt(4.0), pi"
   ]
  },
  {
   "cell_type": "code",
   "execution_count": 7,
   "id": "528d025d",
   "metadata": {},
   "outputs": [
    {
     "ename": "ModuleNotFoundError",
     "evalue": "No module named 'numpy'",
     "output_type": "error",
     "traceback": [
      "\u001b[31m---------------------------------------------------------------------------\u001b[39m",
      "\u001b[31mModuleNotFoundError\u001b[39m                       Traceback (most recent call last)",
      "\u001b[36mCell\u001b[39m\u001b[36m \u001b[39m\u001b[32mIn[7]\u001b[39m\u001b[32m, line 1\u001b[39m\n\u001b[32m----> \u001b[39m\u001b[32m1\u001b[39m \u001b[38;5;28;01mimport\u001b[39;00m\u001b[38;5;250m \u001b[39m\u001b[34;01mnumpy\u001b[39;00m\u001b[38;5;250m \u001b[39m\u001b[38;5;28;01mas\u001b[39;00m\u001b[38;5;250m \u001b[39m\u001b[34;01mnp\u001b[39;00m\n\u001b[32m      2\u001b[39m np.sqrt(\u001b[32m4\u001b[39m), np.sqrt(\u001b[32m4.0\u001b[39m), np.pi\n",
      "\u001b[31mModuleNotFoundError\u001b[39m: No module named 'numpy'"
     ]
    }
   ],
   "source": [
    "import numpy as np\n",
    "np.sqrt(4), np.sqrt(4.0), np.pi"
   ]
  },
  {
   "cell_type": "code",
   "execution_count": 10,
   "id": "2c6f5877",
   "metadata": {},
   "outputs": [
    {
     "data": {
      "text/plain": [
       "array([1, 2, 3, 4])"
      ]
     },
     "execution_count": 10,
     "metadata": {},
     "output_type": "execute_result"
    }
   ],
   "source": [
    "import numpy as np\n",
    "np.array([1,2,3,4])"
   ]
  },
  {
   "cell_type": "code",
   "execution_count": 12,
   "id": "74b47eea",
   "metadata": {},
   "outputs": [
    {
     "data": {
      "text/plain": [
       "(2.0, 3.141592653589793)"
      ]
     },
     "execution_count": 12,
     "metadata": {},
     "output_type": "execute_result"
    }
   ],
   "source": [
    "from math import *\n",
    "sqrt(4), pi"
   ]
  },
  {
   "cell_type": "code",
   "execution_count": 15,
   "id": "270a23dd",
   "metadata": {},
   "outputs": [
    {
     "data": {
      "text/plain": [
       "(3, -1)"
      ]
     },
     "execution_count": 15,
     "metadata": {},
     "output_type": "execute_result"
    }
   ],
   "source": [
    "from package.maths import addition, subtraction\n",
    "addition(1,2), subtraction(1,2)"
   ]
  },
  {
   "cell_type": "code",
   "execution_count": 16,
   "id": "6ee80829",
   "metadata": {},
   "outputs": [
    {
     "data": {
      "text/plain": [
       "(3, -1)"
      ]
     },
     "execution_count": 16,
     "metadata": {},
     "output_type": "execute_result"
    }
   ],
   "source": [
    "from package import maths as mts\n",
    "mts.addition(1,2), mts.subtraction(1,2)"
   ]
  },
  {
   "cell_type": "code",
   "execution_count": 20,
   "id": "6d5ff32f",
   "metadata": {},
   "outputs": [
    {
     "name": "stdout",
     "output_type": "stream",
     "text": [
      "Performing addition using function in package.subpackages.maths\n"
     ]
    },
    {
     "data": {
      "text/plain": [
       "3"
      ]
     },
     "execution_count": 20,
     "metadata": {},
     "output_type": "execute_result"
    }
   ],
   "source": [
    "from package.subpackages import maths\n",
    "maths.addition(1,2)"
   ]
  },
  {
   "cell_type": "code",
   "execution_count": 22,
   "id": "6629284c",
   "metadata": {},
   "outputs": [
    {
     "name": "stdout",
     "output_type": "stream",
     "text": [
      "Performing subtraction using function in package.subpackages.maths\n"
     ]
    },
    {
     "data": {
      "text/plain": [
       "-1"
      ]
     },
     "execution_count": 22,
     "metadata": {},
     "output_type": "execute_result"
    }
   ],
   "source": [
    "from package.subpackages import maths\n",
    "maths.subtraction(1,2)"
   ]
  },
  {
   "cell_type": "code",
   "execution_count": null,
   "id": "9a3ee597",
   "metadata": {},
   "outputs": [],
   "source": []
  }
 ],
 "metadata": {
  "kernelspec": {
   "display_name": "Python 3",
   "language": "python",
   "name": "python3"
  },
  "language_info": {
   "codemirror_mode": {
    "name": "ipython",
    "version": 3
   },
   "file_extension": ".py",
   "mimetype": "text/x-python",
   "name": "python",
   "nbconvert_exporter": "python",
   "pygments_lexer": "ipython3",
   "version": "3.12.9"
  }
 },
 "nbformat": 4,
 "nbformat_minor": 5
}
