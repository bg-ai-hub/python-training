{
 "cells": [
  {
   "cell_type": "markdown",
   "id": "ae22bad2",
   "metadata": {},
   "source": [
    "## 🎯 Understanding the `filter()` Function in Python\n",
    "\n",
    "The `filter()` function is a **built-in Python function** used to filter elements of an iterable based on a condition.\n",
    "\n",
    "---\n",
    "\n",
    "### 🔍 Key Points:\n",
    "- ✅ **Purpose**: Filters elements from an iterable based on a given condition.\n",
    "- ✅ **Returns**: An **iterator** containing only the elements that satisfy the condition.\n",
    "- ✅ **Syntax**:\n",
    "  ```python\n",
    "  filter(function, iterable)\n"
   ]
  },
  {
   "cell_type": "code",
   "execution_count": 1,
   "id": "e7a97326",
   "metadata": {},
   "outputs": [],
   "source": [
    "def even(num):\n",
    "    if num % 2 == 0:\n",
    "        return True\n",
    "    else:\n",
    "        return False"
   ]
  },
  {
   "cell_type": "code",
   "execution_count": 2,
   "id": "59a2a67c",
   "metadata": {},
   "outputs": [
    {
     "data": {
      "text/plain": [
       "True"
      ]
     },
     "execution_count": 2,
     "metadata": {},
     "output_type": "execute_result"
    }
   ],
   "source": [
    "even(2)"
   ]
  },
  {
   "cell_type": "code",
   "execution_count": 3,
   "id": "811f4d73",
   "metadata": {},
   "outputs": [
    {
     "data": {
      "text/plain": [
       "[2, 4, 6, 8, 10]"
      ]
     },
     "execution_count": 3,
     "metadata": {},
     "output_type": "execute_result"
    }
   ],
   "source": [
    "numbers = [1, 2, 3, 4, 5, 6, 7, 8, 9, 10]\n",
    "list(filter(even, numbers))"
   ]
  },
  {
   "cell_type": "code",
   "execution_count": null,
   "id": "77f596e7",
   "metadata": {},
   "outputs": [
    {
     "data": {
      "text/plain": [
       "[6, 7, 8, 9, 10]"
      ]
     },
     "execution_count": 5,
     "metadata": {},
     "output_type": "execute_result"
    }
   ],
   "source": [
    "## Using map() with filter()\n",
    "numbers = [1, 2, 3, 4, 5, 6, 7, 8, 9, 10]\n",
    "list(filter(lambda x: x>5, numbers))"
   ]
  },
  {
   "cell_type": "code",
   "execution_count": 6,
   "id": "163ae62e",
   "metadata": {},
   "outputs": [
    {
     "data": {
      "text/plain": [
       "[6, 8, 10]"
      ]
     },
     "execution_count": 6,
     "metadata": {},
     "output_type": "execute_result"
    }
   ],
   "source": [
    "# filter with lambda function and multiple conditions\n",
    "numbers = [1, 2, 3, 4, 5, 6, 7, 8, 9, 10]\n",
    "list(filter(lambda x: x > 5 and x % 2 == 0, numbers))"
   ]
  },
  {
   "cell_type": "code",
   "execution_count": 8,
   "id": "657b3bb2",
   "metadata": {},
   "outputs": [
    {
     "data": {
      "text/plain": [
       "[{'name': 'Mike', 'age': 35},\n",
       " {'name': 'Anna', 'age': 40},\n",
       " {'name': 'Alice', 'age': 45},\n",
       " {'name': 'Charlie', 'age': 50},\n",
       " {'name': 'David', 'age': 55},\n",
       " {'name': 'Eva', 'age': 60},\n",
       " {'name': 'Frank', 'age': 65},\n",
       " {'name': 'Grace', 'age': 70},\n",
       " {'name': 'Hank', 'age': 75},\n",
       " {'name': 'Ivy', 'age': 80},\n",
       " {'name': 'Jack', 'age': 85},\n",
       " {'name': 'Kate', 'age': 90},\n",
       " {'name': 'Leo', 'age': 95},\n",
       " {'name': 'Mia', 'age': 100}]"
      ]
     },
     "execution_count": 8,
     "metadata": {},
     "output_type": "execute_result"
    }
   ],
   "source": [
    "## filter() on dictionary\n",
    "person = [\n",
    "    {'name': 'John', 'age': 25},\n",
    "    {'name': 'Jane', 'age': 30},\n",
    "    {'name': 'Mike', 'age': 35},\n",
    "    {'name': 'Sara', 'age': 28},\n",
    "    {'name': 'Tom', 'age': 22},\n",
    "    {'name': 'Anna', 'age': 40},\n",
    "    {'name': 'Bob', 'age': 18},\n",
    "    {'name': 'Alice', 'age': 45},\n",
    "    {'name': 'Charlie', 'age': 50},\n",
    "    {'name': 'David', 'age': 55},\n",
    "    {'name': 'Eva', 'age': 60},\n",
    "    {'name': 'Frank', 'age': 65},\n",
    "    {'name': 'Grace', 'age': 70},\n",
    "    {'name': 'Hank', 'age': 75},\n",
    "    {'name': 'Ivy', 'age': 80},\n",
    "    {'name': 'Jack', 'age': 85},\n",
    "    {'name': 'Kate', 'age': 90},\n",
    "    {'name': 'Leo', 'age': 95},\n",
    "    {'name': 'Mia', 'age': 100}\n",
    "]   \n",
    "\n",
    "list(filter(lambda x: x['age'] > 30, person))"
   ]
  },
  {
   "cell_type": "code",
   "execution_count": null,
   "id": "15809fdc",
   "metadata": {},
   "outputs": [],
   "source": []
  }
 ],
 "metadata": {
  "kernelspec": {
   "display_name": "Python 3",
   "language": "python",
   "name": "python3"
  },
  "language_info": {
   "codemirror_mode": {
    "name": "ipython",
    "version": 3
   },
   "file_extension": ".py",
   "mimetype": "text/x-python",
   "name": "python",
   "nbconvert_exporter": "python",
   "pygments_lexer": "ipython3",
   "version": "3.12.9"
  }
 },
 "nbformat": 4,
 "nbformat_minor": 5
}
