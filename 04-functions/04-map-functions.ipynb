{
 "cells": [
  {
   "cell_type": "markdown",
   "id": "3e9debe9",
   "metadata": {},
   "source": [
    "## 🧭 Exploring the `map()` Function in Python\n",
    "\n",
    "The `map()` function is a **built-in Python function** used to apply a transformation function to every item in an iterable.\n",
    "\n",
    "---\n",
    "\n",
    "### 🔍 Key Points:\n",
    "- 🔧 **Purpose**: Transforms each element in an iterable using a specified function.\n",
    "- 🔧 **Returns**: An **iterator** with the transformed elements.\n",
    "- 🔧 **Syntax**:\n",
    "  ```python\n",
    "  map(function, iterable)\n"
   ]
  },
  {
   "cell_type": "code",
   "execution_count": 2,
   "id": "bdd3c7f3",
   "metadata": {},
   "outputs": [
    {
     "data": {
      "text/plain": [
       "100"
      ]
     },
     "execution_count": 2,
     "metadata": {},
     "output_type": "execute_result"
    }
   ],
   "source": [
    "# Map functions applies a given function to all items in an iterable (like a list).\n",
    "# The map() function returns a map object (which is an iterator).\n",
    "# The map object is a generator, so you need to convert it to a list or iterate over it.\n",
    "# The map() function can be used with any iterable, not just lists.\n",
    "\n",
    "def square(x):\n",
    "    return x * x\n",
    "\n",
    "square(10)"
   ]
  },
  {
   "cell_type": "code",
   "execution_count": 3,
   "id": "76c37391",
   "metadata": {},
   "outputs": [
    {
     "name": "stdout",
     "output_type": "stream",
     "text": [
      "<map object at 0x10778cf10>\n",
      "[1, 4, 9, 16, 25, 36, 49, 64, 81, 100]\n"
     ]
    }
   ],
   "source": [
    "# map() function\n",
    "# The map() function takes two arguments: a function and an iterable (like a list).\n",
    "# It applies the function to each item in the iterable and returns a map object (an iterator).\n",
    "numbers = [1, 2, 3, 4, 5, 6, 7, 8, 9, 10]\n",
    "squared_numbers = map(square, numbers)\n",
    "print(squared_numbers)  # <map object at 0x7f8c1c2b3d90>\n",
    "print(list(squared_numbers))  # [1, 4, 9, 16, 25, 36, 49, 64, 81, 100]"
   ]
  },
  {
   "cell_type": "code",
   "execution_count": 4,
   "id": "0e7249e7",
   "metadata": {},
   "outputs": [
    {
     "data": {
      "text/plain": [
       "[1, 4, 9, 16, 25, 36, 49, 64, 81, 100]"
      ]
     },
     "execution_count": 4,
     "metadata": {},
     "output_type": "execute_result"
    }
   ],
   "source": [
    "## Using lambda function with map()\n",
    "list(map(lambda x: x * x, numbers))  # [1, 4, 9, 16, 25, 36, 49, 64, 81, 100]"
   ]
  },
  {
   "cell_type": "code",
   "execution_count": 5,
   "id": "1585b35b",
   "metadata": {},
   "outputs": [
    {
     "data": {
      "text/plain": [
       "[11, 22, 33, 44, 55]"
      ]
     },
     "execution_count": 5,
     "metadata": {},
     "output_type": "execute_result"
    }
   ],
   "source": [
    "### Map Multiple Iterables\n",
    "numbers1 = [1, 2, 3, 4, 5]\n",
    "numbers2 = [10, 20, 30, 40, 50]\n",
    "\n",
    "added_numbers = map(lambda x, y: x + y, numbers1, numbers2)\n",
    "list(added_numbers)  # [11, 22, 33, 44, 55]"
   ]
  },
  {
   "cell_type": "code",
   "execution_count": 6,
   "id": "51cf6939",
   "metadata": {},
   "outputs": [
    {
     "data": {
      "text/plain": [
       "[1, 2, 3, 4, 5]"
      ]
     },
     "execution_count": 6,
     "metadata": {},
     "output_type": "execute_result"
    }
   ],
   "source": [
    "## map() to convert strings to integers\n",
    "numbers = ['1', '2', '3', '4', '5']\n",
    "# Convert strings to integers\n",
    "int_numbers = map(int, numbers)\n",
    "list(int_numbers)  # [1, 2, 3, 4, 5]"
   ]
  },
  {
   "cell_type": "code",
   "execution_count": 7,
   "id": "b211b548",
   "metadata": {},
   "outputs": [
    {
     "data": {
      "text/plain": [
       "['HELLO', 'WORLD', 'PYTHON']"
      ]
     },
     "execution_count": 7,
     "metadata": {},
     "output_type": "execute_result"
    }
   ],
   "source": [
    "## apply inbuilt-in functions using map()\n",
    "words = ['hello', 'world', 'python']\n",
    "# Convert all words to uppercase\n",
    "upper_words = map(str.upper, words)\n",
    "list(upper_words)  # ['HELLO', 'WORLD', 'PYTHON']"
   ]
  },
  {
   "cell_type": "code",
   "execution_count": 9,
   "id": "0e54a4d5",
   "metadata": {},
   "outputs": [
    {
     "data": {
      "text/plain": [
       "['Alice', 'Bob', 'Charlie', 'David', 'Eve']"
      ]
     },
     "execution_count": 9,
     "metadata": {},
     "output_type": "execute_result"
    }
   ],
   "source": [
    "## map for list of dictionaries\n",
    "def get_name(person):\n",
    "    return person['name']\n",
    "people = [\n",
    "    {'name': 'Alice', 'age': 30},\n",
    "    {'name': 'Bob', 'age': 25},\n",
    "    {'name': 'Charlie', 'age': 35},\n",
    "    {'name': 'David', 'age': 28},\n",
    "    {'name': 'Eve', 'age': 22},\n",
    "]\n",
    "# Extract names from list of dictionaries\n",
    "names = map(get_name, people)\n",
    "list(names)  # ['Alice', 'Bob', 'Charlie']"
   ]
  },
  {
   "cell_type": "code",
   "execution_count": null,
   "id": "2d8f8131",
   "metadata": {},
   "outputs": [],
   "source": []
  }
 ],
 "metadata": {
  "kernelspec": {
   "display_name": "Python 3",
   "language": "python",
   "name": "python3"
  },
  "language_info": {
   "codemirror_mode": {
    "name": "ipython",
    "version": 3
   },
   "file_extension": ".py",
   "mimetype": "text/x-python",
   "name": "python",
   "nbconvert_exporter": "python",
   "pygments_lexer": "ipython3",
   "version": "3.12.9"
  }
 },
 "nbformat": 4,
 "nbformat_minor": 5
}
