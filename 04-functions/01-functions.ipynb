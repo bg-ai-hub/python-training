{
 "cells": [
  {
   "cell_type": "code",
   "execution_count": 1,
   "metadata": {},
   "outputs": [],
   "source": [
    "## Function is block of code that only runs when it is called\n",
    "## You can pass data, known as parameters, into a function\n",
    "## A function can return data as a result\n",
    "\n",
    "def function_name(parameter):\n",
    "    \"\"\"docstring\"\"\"\n",
    "    print(parameter)\n",
    "    return parameter"
   ]
  },
  {
   "cell_type": "code",
   "execution_count": null,
   "metadata": {},
   "outputs": [
    {
     "name": "stdout",
     "output_type": "stream",
     "text": [
      "the number 24 is even\n"
     ]
    }
   ],
   "source": [
    "#why functions?\n",
    "#1. You can reuse code\n",
    "#2. it makes code more readable\n",
    "num = 24\n",
    "if num % 2 == 0:\n",
    "    print(f'the number {num} is even')\n",
    "else:\n",
    "    print(f'the number {num} is odd')"
   ]
  },
  {
   "cell_type": "code",
   "execution_count": 11,
   "metadata": {},
   "outputs": [],
   "source": [
    "def event_or_odd(num):\n",
    "    ''' this function checks if a number is even'''\n",
    "    if num % 2 == 0:\n",
    "        print(f'the number {num} is even')\n",
    "    else:\n",
    "        print(f'the number {num} is odd')"
   ]
  },
  {
   "cell_type": "code",
   "execution_count": 12,
   "metadata": {},
   "outputs": [
    {
     "name": "stdout",
     "output_type": "stream",
     "text": [
      "the number 24 is even\n",
      "the number 25 is odd\n"
     ]
    }
   ],
   "source": [
    "event_or_odd(24)\n",
    "event_or_odd(25)"
   ]
  },
  {
   "cell_type": "code",
   "execution_count": 14,
   "metadata": {},
   "outputs": [],
   "source": [
    "## function with multiple parameters\n",
    "def add(a, b):\n",
    "    '''this function adds two numbers'''\n",
    "    return a + b"
   ]
  },
  {
   "cell_type": "code",
   "execution_count": 17,
   "metadata": {},
   "outputs": [
    {
     "name": "stdout",
     "output_type": "stream",
     "text": [
      "sum of 2 and 3 is 5\n"
     ]
    }
   ],
   "source": [
    "a = 2\n",
    "b = 3\n",
    "result = add(a, b)\n",
    "print(f'sum of {a} and {b} is {result}')"
   ]
  },
  {
   "cell_type": "code",
   "execution_count": 21,
   "metadata": {},
   "outputs": [
    {
     "name": "stdout",
     "output_type": "stream",
     "text": [
      "Hello, Guest. Welcome to Paradise. Enjoy your stay\n",
      "Hello, John. Welcome to Paradise. Enjoy your stay\n"
     ]
    }
   ],
   "source": [
    "## Default parameter\n",
    "def greet(name='Guest'):\n",
    "    '''this function greets a person'''\n",
    "    return f'Hello, {name}. Welcome to Paradise. Enjoy your stay'\n",
    "\n",
    "print(greet())\n",
    "print(greet('John'))"
   ]
  },
  {
   "cell_type": "code",
   "execution_count": 24,
   "metadata": {},
   "outputs": [
    {
     "name": "stdout",
     "output_type": "stream",
     "text": [
      "1 2 3 4 5 Hello \n",
      "1 2 3 Python \n",
      "1 2 Test \n"
     ]
    }
   ],
   "source": [
    "## Variable length arguments\n",
    "## Positional and keyword arguments\n",
    "\n",
    "## Positional arguments\n",
    "def print_numbers(*args):\n",
    "    '''this function prints numbers'''\n",
    "    for arg in args:\n",
    "        print(arg, sep=' ', end=' ')\n",
    "    print()\n",
    "print_numbers(1, 2, 3, 4, 5, \"Hello\")\n",
    "print_numbers(1, 2, 3, \"Python\")\n",
    "print_numbers(1, 2, \"Test\")"
   ]
  },
  {
   "cell_type": "code",
   "execution_count": 25,
   "metadata": {},
   "outputs": [
    {
     "name": "stdout",
     "output_type": "stream",
     "text": [
      "name: John\n",
      "age: 22\n",
      "country: Kenya\n",
      "\n",
      "name: Jane\n",
      "age: 25\n",
      "country: Uganda\n",
      "\n"
     ]
    }
   ],
   "source": [
    "## Keyword arguments\n",
    "def print_details(**kwargs):\n",
    "    '''this function prints details'''\n",
    "    for key, value in kwargs.items():\n",
    "        print(f'{key}: {value}')\n",
    "    print()\n",
    "print_details(name='John', age=22, country='Kenya')\n",
    "print_details(name='Jane', age=25, country='Uganda')"
   ]
  },
  {
   "cell_type": "code",
   "execution_count": 30,
   "metadata": {},
   "outputs": [
    {
     "name": "stdout",
     "output_type": "stream",
     "text": [
      "Positional arguments:\n",
      "1 2 3 4 5 \n",
      "Keyword arguments:\n",
      "name: John\n",
      "age: 22\n",
      "country: Kenya\n",
      "\n",
      "Positional arguments:\n",
      "1 2 3 \n",
      "Keyword arguments:\n",
      "name: Jane\n",
      "age: 25\n",
      "country: Uganda\n",
      "\n"
     ]
    }
   ],
   "source": [
    "## Positional and keyword arguments\n",
    "def print_all(*args, **kwargs):\n",
    "    '''this function prints all arguments'''\n",
    "    print('Positional arguments:')  \n",
    "    for arg in args:\n",
    "        print(arg, sep=' ', end=' ')\n",
    "    print()\n",
    "    print('Keyword arguments:')\n",
    "    for key, value in kwargs.items():\n",
    "        print(f'{key}: {value}')\n",
    "    print()\n",
    "\n",
    "## Positional arguments are passed first followed by keyword arguments\n",
    "print_all(1, 2, 3, 4, 5, name='John', age=22, country='Kenya')\n",
    "print_all(1, 2, 3, name='Jane', age=25, country='Uganda')"
   ]
  },
  {
   "cell_type": "code",
   "execution_count": 31,
   "metadata": {},
   "outputs": [
    {
     "name": "stdout",
     "output_type": "stream",
     "text": [
      "product of 2 and 3 is 6\n"
     ]
    }
   ],
   "source": [
    "## Return statement\n",
    "def multiply(a, b):\n",
    "    '''this function multiplies two numbers'''\n",
    "    return a * b\n",
    "\n",
    "result = multiply(2, 3)\n",
    "print(f'product of 2 and 3 is {result}')"
   ]
  },
  {
   "cell_type": "code",
   "execution_count": 32,
   "metadata": {},
   "outputs": [
    {
     "name": "stdout",
     "output_type": "stream",
     "text": [
      "square of 3 is 9\n",
      "cube of 3 is 27\n"
     ]
    }
   ],
   "source": [
    "## return multiple values\n",
    "def square_and_cube(num):\n",
    "    '''this function returns square and cube of a number'''\n",
    "    return num ** 2, num ** 3\n",
    "\n",
    "square, cube = square_and_cube(3)\n",
    "print(f'square of 3 is {square}')\n",
    "print(f'cube of 3 is {cube}')"
   ]
  }
 ],
 "metadata": {
  "kernelspec": {
   "display_name": "base",
   "language": "python",
   "name": "python3"
  },
  "language_info": {
   "codemirror_mode": {
    "name": "ipython",
    "version": 3
   },
   "file_extension": ".py",
   "mimetype": "text/x-python",
   "name": "python",
   "nbconvert_exporter": "python",
   "pygments_lexer": "ipython3",
   "version": "3.12.7"
  }
 },
 "nbformat": 4,
 "nbformat_minor": 2
}
