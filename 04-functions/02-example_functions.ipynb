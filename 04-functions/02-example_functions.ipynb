{
 "cells": [
  {
   "cell_type": "code",
   "execution_count": 1,
   "metadata": {},
   "outputs": [],
   "source": [
    "## Example 1: temperature conversion\n",
    "## This program converts a temperature in Fahrenheit to Celsius and farhenheit to celsius\n",
    "## The formula for conversion is:\n",
    "## Celsius = (Fahrenheit - 32) * 5.0/9.0\n",
    "## Fahrenheit = (Celsius * 9.0/5.0) + 32\n",
    "def convert_temprature(temp,unit):\n",
    "    if unit == 'F':\n",
    "        celsius = (temp - 32) * 5.0/9.0\n",
    "        return celsius\n",
    "    elif unit == 'C':\n",
    "        fahrenheit = (temp * 9.0/5.0) + 32\n",
    "        return fahrenheit\n",
    "    else:\n",
    "        print(\"Invalid unit\")\n",
    "        return"
   ]
  },
  {
   "cell_type": "code",
   "execution_count": 4,
   "metadata": {},
   "outputs": [
    {
     "name": "stdout",
     "output_type": "stream",
     "text": [
      "converted temperature from farrhenheit to celsius is 37.77777777777778\n",
      "converted temperature from celsius to farrhenheit is 100.03999999999999\n",
      "Invalid unit\n"
     ]
    }
   ],
   "source": [
    "celsius = convert_temprature(100,'F')\n",
    "print(f'converted temperature from farrhenheit to celsius is {celsius}')\n",
    "fahrenheit = convert_temprature(37.8,'C')\n",
    "print(f'converted temperature from celsius to farrhenheit is {fahrenheit}')\n",
    "convert_temprature(100,'X')"
   ]
  },
  {
   "cell_type": "code",
   "execution_count": 11,
   "metadata": {},
   "outputs": [
    {
     "name": "stdout",
     "output_type": "stream",
     "text": [
      "Password is strong\n",
      "Password is strong\n",
      "Password is weak, it should have at least one uppercase character\n",
      "Password is strong\n"
     ]
    }
   ],
   "source": [
    "## Example 2: Password strength checker\n",
    "## This program checks the strength of a password\n",
    "## The password is considered strong if it has at least 8 characters, contains both uppercase and lowercase characters, has at least one digit and one special character\n",
    "def check_password_strength(password):\n",
    "    \"\"\"This function checks the strength of a password\"\"\"\n",
    "    if len(password) < 8:\n",
    "        return 'Password is weak, it should have at least 8 characters'\n",
    "    if not any(char.isupper() for char in password):\n",
    "        return 'Password is weak, it should have at least one uppercase character'\n",
    "    if not any(char.islower() for char in password):\n",
    "        return 'Password is weak, it should have at least one lowercase character'\n",
    "    if not any(char.isdigit() for char in password):\n",
    "        return 'Password is weak, it should have at least one digit'\n",
    "    if not any(not char in '!@#$%&_.:' for char in password):\n",
    "        return 'Password is weak, it should have at least one special character'\n",
    "    return 'Password is strong'\n",
    "\n",
    "password = 'Password@123'\n",
    "print(check_password_strength(password))\n",
    "password = 'Password.123'\n",
    "print(check_password_strength(password))\n",
    "password = 'password@123'\n",
    "print(check_password_strength(password))\n",
    "password = 'Password123'\n",
    "print(check_password_strength(password))"
   ]
  }
 ],
 "metadata": {
  "kernelspec": {
   "display_name": "Python 3",
   "language": "python",
   "name": "python3"
  },
  "language_info": {
   "codemirror_mode": {
    "name": "ipython",
    "version": 3
   },
   "file_extension": ".py",
   "mimetype": "text/x-python",
   "name": "python",
   "nbconvert_exporter": "python",
   "pygments_lexer": "ipython3",
   "version": "3.12.9"
  }
 },
 "nbformat": 4,
 "nbformat_minor": 2
}
