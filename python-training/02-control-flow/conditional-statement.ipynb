{
 "cells": [
  {
   "cell_type": "code",
   "execution_count": 1,
   "metadata": {},
   "outputs": [
    {
     "name": "stdout",
     "output_type": "stream",
     "text": [
      "You are an adult!\n"
     ]
    }
   ],
   "source": [
    "## If statement\n",
    "## if statement is used to check a condition: if the condition is true, we run a block of statements (called the if-block), else we process another block of statements (called the else-block). The else clause is optional.\n",
    "age = 20\n",
    "if age >= 18:\n",
    "    print('You are an adult!')"
   ]
  },
  {
   "cell_type": "code",
   "execution_count": 2,
   "metadata": {},
   "outputs": [
    {
     "data": {
      "text/plain": [
       "True"
      ]
     },
     "execution_count": 2,
     "metadata": {},
     "output_type": "execute_result"
    }
   ],
   "source": [
    "age>=18"
   ]
  },
  {
   "cell_type": "code",
   "execution_count": 3,
   "metadata": {},
   "outputs": [
    {
     "name": "stdout",
     "output_type": "stream",
     "text": [
      "You are a teenager!\n"
     ]
    }
   ],
   "source": [
    "## else statement\n",
    "## The else statement is an optional statement and there could be at most only one else statement following if.\n",
    "age = 15\n",
    "if age >= 18:\n",
    "    print('You are an adult!')\n",
    "else:\n",
    "    print('You are a teenager!')"
   ]
  },
  {
   "cell_type": "code",
   "execution_count": 4,
   "metadata": {},
   "outputs": [
    {
     "name": "stdout",
     "output_type": "stream",
     "text": [
      "You are a teenager!\n"
     ]
    }
   ],
   "source": [
    "## elif statement\n",
    "## The elif statement allows you to check multiple expressions for TRUE and execute a block of code as soon as one of the conditions is TRUE.\n",
    "age = 15\n",
    "if age >= 18:\n",
    "    print('You are an adult!')\n",
    "elif age >= 13:\n",
    "    print('You are a teenager!')\n",
    "else:\n",
    "    print('You are a kid!')"
   ]
  },
  {
   "cell_type": "code",
   "execution_count": 5,
   "metadata": {},
   "outputs": [
    {
     "name": "stdout",
     "output_type": "stream",
     "text": [
      "You are a teenager!\n"
     ]
    }
   ],
   "source": [
    "#nested if condition\n",
    "## You can have if statements inside if statements, this is called nested if statements.\n",
    "age = 15\n",
    "if age >= 13:\n",
    "    if age >= 18:\n",
    "        print('You are an adult!')\n",
    "    else:\n",
    "        print('You are a teenager!')\n",
    "else:\n",
    "    print('You are a kid!')"
   ]
  },
  {
   "cell_type": "code",
   "execution_count": 11,
   "metadata": {},
   "outputs": [
    {
     "name": "stdout",
     "output_type": "stream",
     "text": [
      "The number is negative!\n"
     ]
    }
   ],
   "source": [
    "## given a number check if its even, odd or negative\n",
    "num = int(input('Enter a number: '))\n",
    "if num >= 0:\n",
    "    if num == 0:\n",
    "        print('The number is zero!')\n",
    "    else:\n",
    "        print(\"The number is positive!\")\n",
    "        if num % 2 == 0:\n",
    "            print('The number is even!')\n",
    "        else:\n",
    "            print('The number is odd!')\n",
    "else:\n",
    "    print('The number is negative!')"
   ]
  },
  {
   "cell_type": "code",
   "execution_count": 17,
   "metadata": {},
   "outputs": [
    {
     "name": "stdout",
     "output_type": "stream",
     "text": [
      "The year 2020 is a leap year!\n"
     ]
    }
   ],
   "source": [
    "## Dtermine if the year is a leap year using nested if\n",
    "year = int(input('Enter a year: '))\n",
    "if year % 4 == 0:\n",
    "    if year % 100 == 0:\n",
    "        if year % 400 == 0:\n",
    "            print(f'The year {year} is a leap year!')\n",
    "        else:\n",
    "            print(f'The year {year} is not a leap year!')\n",
    "    else:\n",
    "        print(f'The year {year} is a leap year!')\n",
    "else:\n",
    "    print(f'The year {year} is not a leap year!')"
   ]
  },
  {
   "cell_type": "code",
   "execution_count": 18,
   "metadata": {},
   "outputs": [
    {
     "name": "stdout",
     "output_type": "stream",
     "text": [
      "12.0 + 12.0 = 24.0\n"
     ]
    }
   ],
   "source": [
    "## Simple calculator, take input from user and operator and perform operation\n",
    "num1 = float(input('Enter first number: '))\n",
    "num2 = float(input('Enter second number: '))\n",
    "operator = input('Enter operator: ')\n",
    "if operator == '+':\n",
    "    print(f'{num1} + {num2} = {num1 + num2}')\n",
    "elif operator == '-':\n",
    "    print(f'{num1} - {num2} = {num1 - num2}')\n",
    "elif operator == '*':\n",
    "    print(f'{num1} * {num2} = {num1 * num2}')\n",
    "elif operator == '/':\n",
    "    print(f'{num1} / {num2} = {num1 / num2}')\n",
    "else:\n",
    "    print('Invalid operator!')"
   ]
  },
  {
   "cell_type": "code",
   "execution_count": null,
   "metadata": {},
   "outputs": [],
   "source": [
    "## Determine ticket price based on age and whether the person is a student or not\n",
    "age = int(input('Enter your age: '))\n",
    "student = input('Are you a student (yes/no): ')\n",
    "if age < 5 or age >= 60:\n",
    "    print('The ticket price is free!')\n",
    "elif age < 18 or student == 'yes':\n",
    "    print('The ticket price is $8!')\n",
    "else:\n",
    "    print('The ticket price is $12!')"
   ]
  },
  {
   "cell_type": "code",
   "execution_count": null,
   "metadata": {},
   "outputs": [],
   "source": []
  },
  {
   "cell_type": "code",
   "execution_count": null,
   "metadata": {},
   "outputs": [],
   "source": []
  },
  {
   "cell_type": "code",
   "execution_count": null,
   "metadata": {},
   "outputs": [],
   "source": []
  },
  {
   "cell_type": "code",
   "execution_count": null,
   "metadata": {},
   "outputs": [],
   "source": []
  },
  {
   "cell_type": "code",
   "execution_count": null,
   "metadata": {},
   "outputs": [],
   "source": []
  },
  {
   "cell_type": "code",
   "execution_count": null,
   "metadata": {},
   "outputs": [],
   "source": []
  },
  {
   "cell_type": "code",
   "execution_count": null,
   "metadata": {},
   "outputs": [],
   "source": []
  },
  {
   "cell_type": "code",
   "execution_count": null,
   "metadata": {},
   "outputs": [],
   "source": []
  },
  {
   "cell_type": "code",
   "execution_count": null,
   "metadata": {},
   "outputs": [],
   "source": []
  },
  {
   "cell_type": "code",
   "execution_count": null,
   "metadata": {},
   "outputs": [],
   "source": []
  },
  {
   "cell_type": "code",
   "execution_count": null,
   "metadata": {},
   "outputs": [],
   "source": []
  },
  {
   "cell_type": "code",
   "execution_count": null,
   "metadata": {},
   "outputs": [],
   "source": []
  },
  {
   "cell_type": "code",
   "execution_count": null,
   "metadata": {},
   "outputs": [],
   "source": []
  },
  {
   "cell_type": "code",
   "execution_count": null,
   "metadata": {},
   "outputs": [],
   "source": []
  },
  {
   "cell_type": "code",
   "execution_count": null,
   "metadata": {},
   "outputs": [],
   "source": []
  },
  {
   "cell_type": "code",
   "execution_count": null,
   "metadata": {},
   "outputs": [],
   "source": []
  }
 ],
 "metadata": {
  "kernelspec": {
   "display_name": "Python 3",
   "language": "python",
   "name": "python3"
  },
  "language_info": {
   "codemirror_mode": {
    "name": "ipython",
    "version": 3
   },
   "file_extension": ".py",
   "mimetype": "text/x-python",
   "name": "python",
   "nbconvert_exporter": "python",
   "pygments_lexer": "ipython3",
   "version": "3.12.9"
  }
 },
 "nbformat": 4,
 "nbformat_minor": 2
}
