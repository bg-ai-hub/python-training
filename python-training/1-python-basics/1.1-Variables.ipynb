{
 "cells": [
  {
   "cell_type": "code",
   "execution_count": null,
   "metadata": {},
   "outputs": [],
   "source": [
    "a = 100"
   ]
  },
  {
   "cell_type": "code",
   "execution_count": 2,
   "metadata": {},
   "outputs": [
    {
     "name": "stdout",
     "output_type": "stream",
     "text": [
      "age : 32\n",
      "height : 5.8\n",
      "name : Bhavesh\n",
      "is_student : True\n"
     ]
    }
   ],
   "source": [
    "## Declaring and assigning a value to a variable\n",
    "age = 32\n",
    "height = 5.8\n",
    "name = \"Bhavesh\"\n",
    "is_student = True\n",
    "\n",
    "## Printing the value of a variable\n",
    "print(\"age :\", age)\n",
    "print(\"height :\", height)\n",
    "print(\"name :\", name)\n",
    "print(\"is_student :\", is_student)  "
   ]
  },
  {
   "cell_type": "code",
   "execution_count": null,
   "metadata": {},
   "outputs": [],
   "source": [
    "## Naming convention for variables\n",
    "## 1. Variable name should start with a letter or underscore\n",
    "## 2. Variable name should not start with a number\n",
    "## 3. Variable name should be descriptive\n",
    "## 4. Variable name should not be a keyword\n",
    "## 5. Variable name can contain letters, numbers and underscores\n",
    "\n",
    "## Valid variable names\n",
    "first_name = \"Bhavesh\"\n",
    "last_name = \"Gawade\"\n",
    "\n",
    "## Invalid variable names\n",
    "#2age = 30\n",
    "#first-name = \"Bhavesh\"\n",
    "#first name = \"Bhavesh\"\n",
    "#class = \"Python\"\n",
    "#@age = 30\n",
    "#age@ = 30"
   ]
  },
  {
   "cell_type": "code",
   "execution_count": null,
   "metadata": {},
   "outputs": [],
   "source": []
  },
  {
   "cell_type": "code",
   "execution_count": null,
   "metadata": {},
   "outputs": [],
   "source": []
  }
 ],
 "metadata": {
  "kernelspec": {
   "display_name": "Python 3",
   "language": "python",
   "name": "python3"
  },
  "language_info": {
   "codemirror_mode": {
    "name": "ipython",
    "version": 3
   },
   "file_extension": ".py",
   "mimetype": "text/x-python",
   "name": "python",
   "nbconvert_exporter": "python",
   "pygments_lexer": "ipython3",
   "version": "3.12.9"
  }
 },
 "nbformat": 4,
 "nbformat_minor": 2
}
