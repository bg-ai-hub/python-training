{
 "cells": [
  {
   "cell_type": "code",
   "execution_count": 3,
   "id": "c4ed7774",
   "metadata": {},
   "outputs": [
    {
     "name": "stdout",
     "output_type": "stream",
     "text": [
      "variable b is not defined\n"
     ]
    }
   ],
   "source": [
    "## exception handling try, except blocks\n",
    "# 1. Basic try/except\n",
    "try:\n",
    "    a = b\n",
    "except:\n",
    "    print(\"variable b is not defined\")\n"
   ]
  },
  {
   "cell_type": "code",
   "execution_count": 4,
   "id": "c4bf3b76",
   "metadata": {},
   "outputs": [
    {
     "name": "stdout",
     "output_type": "stream",
     "text": [
      "name 'b' is not defined\n"
     ]
    }
   ],
   "source": [
    "## exception handling try, except blocks\n",
    "# 1. Basic try/except\n",
    "try:\n",
    "    a = b\n",
    "except NameError as e:\n",
    "    print(e)\n"
   ]
  },
  {
   "cell_type": "code",
   "execution_count": 6,
   "id": "4cf5fb24",
   "metadata": {},
   "outputs": [
    {
     "name": "stdout",
     "output_type": "stream",
     "text": [
      "You cannot divide by zero\n",
      "division by zero\n"
     ]
    }
   ],
   "source": [
    "try:\n",
    "    result = 1/0\n",
    "except ZeroDivisionError as e:\n",
    "    print(\"You cannot divide by zero\")\n",
    "    print(e)"
   ]
  },
  {
   "cell_type": "code",
   "execution_count": 9,
   "id": "37eeb7b2",
   "metadata": {},
   "outputs": [
    {
     "name": "stdout",
     "output_type": "stream",
     "text": [
      "variable b is not defined\n",
      "name 'b' is not defined\n"
     ]
    }
   ],
   "source": [
    "try:\n",
    "    result = 1/2\n",
    "    a = b\n",
    "except ZeroDivisionError as e:\n",
    "    print(\"You cannot divide by zero\")\n",
    "    print(e)\n",
    "except NameError as e:\n",
    "    print(\"variable b is not defined\")\n",
    "    print(e)\n"
   ]
  },
  {
   "cell_type": "code",
   "execution_count": 10,
   "id": "517191b3",
   "metadata": {},
   "outputs": [
    {
     "name": "stdout",
     "output_type": "stream",
     "text": [
      "An error occurred\n",
      "name 'b' is not defined\n"
     ]
    }
   ],
   "source": [
    "try:\n",
    "    result = 1/2\n",
    "    a = b\n",
    "except ZeroDivisionError as e:\n",
    "    print(\"You cannot divide by zero\")\n",
    "    print(e)\n",
    "except Exception as e:\n",
    "    print(\"An error occurred\")\n",
    "    print(e)\n"
   ]
  },
  {
   "cell_type": "code",
   "execution_count": 14,
   "id": "dd1d2717",
   "metadata": {},
   "outputs": [
    {
     "name": "stdout",
     "output_type": "stream",
     "text": [
      "Invalid input. Please enter a number.\n",
      "invalid literal for int() with base 10: 'sg'\n"
     ]
    }
   ],
   "source": [
    "try:\n",
    "    num = int(input(\"Enter a number: \"))\n",
    "    result = 10/num\n",
    "except ValueError as e:\n",
    "    print(\"Invalid input. Please enter a number.\")\n",
    "    print(e)\n",
    "except ZeroDivisionError as e:\n",
    "    print(\"You cannot divide by zero.\")\n",
    "    print(e)\n",
    "except Exception as e:\n",
    "    print(\"An unexpected error occurred.\")\n",
    "    print(e)\n"
   ]
  },
  {
   "cell_type": "code",
   "execution_count": 16,
   "id": "a02ba124",
   "metadata": {},
   "outputs": [
    {
     "name": "stdout",
     "output_type": "stream",
     "text": [
      "You cannot divide by zero.\n",
      "division by zero\n"
     ]
    }
   ],
   "source": [
    "## try, except, else block\n",
    "try:\n",
    "    num = int(input(\"Enter a number: \"))\n",
    "    result = 10/num\n",
    "except ValueError as e:\n",
    "    print(\"Invalid input. Please enter a number.\")\n",
    "    print(e)\n",
    "except ZeroDivisionError as e:\n",
    "    print(\"You cannot divide by zero.\")\n",
    "    print(e)\n",
    "except Exception as e:\n",
    "    print(\"An unexpected error occurred.\")\n",
    "    print(e)\n",
    "else:\n",
    "    print(\"The result is:\", result)\n",
    "    print(\"No exceptions were raised.\")"
   ]
  },
  {
   "cell_type": "code",
   "execution_count": 18,
   "id": "3a4cf65d",
   "metadata": {},
   "outputs": [
    {
     "name": "stdout",
     "output_type": "stream",
     "text": [
      "The result is: 0.43478260869565216\n",
      "No exceptions were raised.\n",
      "This block always executes, regardless of exceptions.\n",
      "Cleanup code can go here.\n"
     ]
    }
   ],
   "source": [
    "## try, except, else, finally block\n",
    "try:\n",
    "    num = int(input(\"Enter a number: \"))\n",
    "    result = 10/num\n",
    "except ValueError as e:\n",
    "    print(\"Invalid input. Please enter a number.\")\n",
    "    print(e)\n",
    "except ZeroDivisionError as e:\n",
    "    print(\"You cannot divide by zero.\")\n",
    "    print(e)\n",
    "except Exception as e:\n",
    "    print(\"An unexpected error occurred.\")\n",
    "    print(e)\n",
    "else:\n",
    "    print(\"The result is:\", result)\n",
    "    print(\"No exceptions were raised.\")\n",
    "finally:\n",
    "    print(\"This block always executes, regardless of exceptions.\")\n",
    "    print(\"Cleanup code can go here.\")"
   ]
  },
  {
   "cell_type": "code",
   "execution_count": 20,
   "id": "e59df43e",
   "metadata": {},
   "outputs": [
    {
     "name": "stdout",
     "output_type": "stream",
     "text": [
      "File not found. Please check the file path.\n",
      "[Errno 2] No such file or directory: 'non_existent_file.txt'\n",
      "File was never opened, so no need to close it.\n"
     ]
    }
   ],
   "source": [
    "## file handling and exception handling\n",
    "try:\n",
    "    file = open(\"non_existent_file.txt\", \"r\")\n",
    "    content = file.read()\n",
    "    print(content)\n",
    "except FileNotFoundError as e:\n",
    "    print(\"File not found. Please check the file path.\")\n",
    "    print(e)\n",
    "finally:\n",
    "    try:\n",
    "        file.close()\n",
    "    except NameError:\n",
    "        print(\"File was never opened, so no need to close it.\")\n",
    "    else:\n",
    "        print(\"File closed successfully.\")"
   ]
  },
  {
   "cell_type": "code",
   "execution_count": null,
   "id": "16561a72",
   "metadata": {},
   "outputs": [],
   "source": []
  }
 ],
 "metadata": {
  "kernelspec": {
   "display_name": "Python 3",
   "language": "python",
   "name": "python3"
  },
  "language_info": {
   "codemirror_mode": {
    "name": "ipython",
    "version": 3
   },
   "file_extension": ".py",
   "mimetype": "text/x-python",
   "name": "python",
   "nbconvert_exporter": "python",
   "pygments_lexer": "ipython3",
   "version": "3.12.9"
  }
 },
 "nbformat": 4,
 "nbformat_minor": 5
}
