{
 "cells": [
  {
   "cell_type": "markdown",
   "metadata": {},
   "source": [
    "#### Example 1: Manage a to do list"
   ]
  },
  {
   "cell_type": "code",
   "execution_count": 3,
   "metadata": {},
   "outputs": [
    {
     "name": "stdout",
     "output_type": "stream",
     "text": [
      "To Do List Remianing\n",
      "- go to gym\n",
      "- buy eggs\n",
      "- go to office\n"
     ]
    }
   ],
   "source": [
    "to_do_list = [\"buy milk\",\"go to gym\"]\n",
    "\n",
    "## Adding an item to the list\n",
    "to_do_list.append(\"buy eggs\")\n",
    "to_do_list.append(\"go to office\")\n",
    "\n",
    "## Removing an item from the list\n",
    "to_do_list.remove(\"buy milk\")\n",
    "\n",
    "## checking if an item is in the list\n",
    "if \"buy milk\" in to_do_list:\n",
    "    print(\"buy milk is in the list\")\n",
    "\n",
    "print(\"To Do List Remianing\")\n",
    "for task in to_do_list:\n",
    "    print(\"-\", task)"
   ]
  },
  {
   "cell_type": "markdown",
   "metadata": {},
   "source": [
    "#### Example 1: Organizing Student Grades"
   ]
  },
  {
   "cell_type": "code",
   "execution_count": 4,
   "metadata": {},
   "outputs": [
    {
     "name": "stdout",
     "output_type": "stream",
     "text": [
      "Average Grade: 65.0\n",
      "Highest Grade: 90\n",
      "Lowest Grade: 40\n"
     ]
    }
   ],
   "source": [
    "grades = [90, 80, 70, 60, 50]\n",
    "\n",
    "## Adding new grade\n",
    "grades.append(40)\n",
    "\n",
    "## Calculating the average of the grades\n",
    "average = sum(grades) / len(grades)\n",
    "print(\"Average Grade:\", average)\n",
    "\n",
    "## finding highest and lowest grade\n",
    "highest = max(grades)\n",
    "lowest = min(grades)\n",
    "print(\"Highest Grade:\", highest)\n",
    "print(\"Lowest Grade:\", lowest)"
   ]
  },
  {
   "cell_type": "markdown",
   "metadata": {},
   "source": [
    "#### Example 3: Managing an inventory"
   ]
  },
  {
   "cell_type": "code",
   "execution_count": 6,
   "metadata": {},
   "outputs": [
    {
     "name": "stdout",
     "output_type": "stream",
     "text": [
      "orange is in the inventory\n",
      "Inventory Remaining\n",
      "- apple\n",
      "- orange\n",
      "- grapes\n",
      "- mango\n",
      "- kiwi\n"
     ]
    }
   ],
   "source": [
    "## Managing an inventory\n",
    "inventory = [\"apple\", \"banana\", \"orange\", \"grapes\", \"mango\"]\n",
    "\n",
    "## Adding new items to the inventory\n",
    "inventory.append(\"kiwi\")\n",
    "\n",
    "## Removing an item from the inventory\n",
    "inventory.remove(\"banana\")\n",
    "\n",
    "## Checking if an item is in the inventory\n",
    "if \"orange\" in inventory:\n",
    "    print(\"orange is in the inventory\")\n",
    "else:\n",
    "    print(\"orange is not in the inventory\")\n",
    "\n",
    "print(\"Inventory Remaining\")\n",
    "for item in inventory:\n",
    "    print(\"-\", item)"
   ]
  },
  {
   "cell_type": "markdown",
   "metadata": {},
   "source": [
    "#### Example 4: Collecting user feedback"
   ]
  },
  {
   "cell_type": "code",
   "execution_count": 10,
   "metadata": {},
   "outputs": [
    {
     "name": "stdout",
     "output_type": "stream",
     "text": [
      "Positive Feedback Count: 3\n",
      "Feedback Received\n",
      "- Greate service\n",
      "- Good quality\n",
      "- Fast delivery\n",
      "- Excellent customer service\n"
     ]
    }
   ],
   "source": [
    "## Collecting user feedback\n",
    "feedback = [\"Greate service\", \"Good quality\", \"Fast delivery\"]\n",
    "\n",
    "## Adding new feedback\n",
    "feedback.append(\"Excellent customer service\")\n",
    "\n",
    "## Counting specific feedback\n",
    "positive_feedback_count = sum(1 for f in feedback if \"great\" in f.lower() or \"excellent\" in f.lower() or \"good\" in f.lower())\n",
    "print(f\"Positive Feedback Count: {positive_feedback_count}\")\n",
    "\n",
    "## Displaying all feedback\n",
    "print(\"Feedback Received\")\n",
    "for f in feedback:\n",
    "    print(\"-\", f)"
   ]
  }
 ],
 "metadata": {
  "kernelspec": {
   "display_name": "Python 3",
   "language": "python",
   "name": "python3"
  },
  "language_info": {
   "codemirror_mode": {
    "name": "ipython",
    "version": 3
   },
   "file_extension": ".py",
   "mimetype": "text/x-python",
   "name": "python",
   "nbconvert_exporter": "python",
   "pygments_lexer": "ipython3",
   "version": "3.12.9"
  }
 },
 "nbformat": 4,
 "nbformat_minor": 2
}
