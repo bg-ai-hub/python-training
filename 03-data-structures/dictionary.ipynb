{
 "cells": [
  {
   "cell_type": "code",
   "execution_count": 1,
   "metadata": {},
   "outputs": [],
   "source": [
    "## Dictionary is a collection of key-value pairs\n",
    "## Each key is connected to a value, and you can use a key to access the value associated with that key\n",
    "## A key’s value can be a number, a string, a list, or even another dictionary\n",
    "## Key must be unique in a dictionary, but a value can be repeated"
   ]
  },
  {
   "cell_type": "code",
   "execution_count": 2,
   "metadata": {},
   "outputs": [
    {
     "name": "stdout",
     "output_type": "stream",
     "text": [
      "{}\n",
      "<class 'dict'>\n"
     ]
    }
   ],
   "source": [
    "## Creating a dictionary\n",
    "empty_dict = {}\n",
    "print(empty_dict)\n",
    "print(type(empty_dict))"
   ]
  },
  {
   "cell_type": "code",
   "execution_count": 3,
   "metadata": {},
   "outputs": [
    {
     "name": "stdout",
     "output_type": "stream",
     "text": [
      "{}\n",
      "<class 'dict'>\n"
     ]
    }
   ],
   "source": [
    "empty_dict=dict()\n",
    "print(empty_dict)\n",
    "print(type(empty_dict))"
   ]
  },
  {
   "cell_type": "code",
   "execution_count": 6,
   "metadata": {},
   "outputs": [
    {
     "name": "stdout",
     "output_type": "stream",
     "text": [
      "{'name': 'John', 'age': 25, 'grade': 'A'}\n",
      "<class 'dict'>\n"
     ]
    }
   ],
   "source": [
    "student={'name':'John', 'age':25, 'grade':'A'}\n",
    "print(student)\n",
    "print(type(student))"
   ]
  },
  {
   "cell_type": "code",
   "execution_count": 11,
   "metadata": {},
   "outputs": [
    {
     "name": "stdout",
     "output_type": "stream",
     "text": [
      "{'name': 'Doe', 'age': 25, 'grade': 'A'}\n"
     ]
    }
   ],
   "source": [
    "## Single key is always used\n",
    "student = {'name':'John', 'age':25, 'grade':'A', 'name':'Doe'}\n",
    "print(student)\n",
    "#last key will be considered"
   ]
  },
  {
   "cell_type": "code",
   "execution_count": 12,
   "metadata": {},
   "outputs": [
    {
     "name": "stdout",
     "output_type": "stream",
     "text": [
      "name is : John\n",
      "age is : 25\n",
      "grade is : A\n"
     ]
    }
   ],
   "source": [
    "## Accessing dictionary elements\n",
    "student={'name':'John', 'age':25, 'grade':'A'}\n",
    "print(f'name is : {student['name']}')\n",
    "print(f'age is : {student['age']}')\n",
    "print(f'grade is : {student['grade']}')"
   ]
  },
  {
   "cell_type": "code",
   "execution_count": 14,
   "metadata": {},
   "outputs": [
    {
     "name": "stdout",
     "output_type": "stream",
     "text": [
      "name is : John\n",
      "age is : 25\n",
      "grade is : A\n",
      "last name is : None\n"
     ]
    }
   ],
   "source": [
    "## Accessing value using get() method\n",
    "print(f'name is : {student.get(\"name\")}')\n",
    "print(f'age is : {student.get(\"age\")}')\n",
    "print(f'grade is : {student.get(\"grade\")}')\n",
    "print(f'last name is : {student.get(\"last_name\")}')"
   ]
  },
  {
   "cell_type": "code",
   "execution_count": 17,
   "metadata": {},
   "outputs": [
    {
     "name": "stdout",
     "output_type": "stream",
     "text": [
      "last name is Not Available\n"
     ]
    }
   ],
   "source": [
    "## if key not found return default value\n",
    "print(f'last name is {student.get(\"last_name\", \"Not Available\")}')\n"
   ]
  },
  {
   "cell_type": "code",
   "execution_count": 18,
   "metadata": {},
   "outputs": [
    {
     "name": "stdout",
     "output_type": "stream",
     "text": [
      "{'name': 'John', 'age': 25, 'grade': 'A'}\n"
     ]
    }
   ],
   "source": [
    "## modifying dictionary elements\n",
    "## Dictionary is mutable. you can add and update element. \n",
    "## However key should always be unique\n",
    "## Key is immutable. You can't change the key of an existing element\n",
    "print(student)"
   ]
  },
  {
   "cell_type": "code",
   "execution_count": null,
   "metadata": {},
   "outputs": [
    {
     "name": "stdout",
     "output_type": "stream",
     "text": [
      "{'name': 'John', 'age': 26, 'grade': 'A'}\n",
      "{'name': 'John', 'age': 26, 'grade': 'A', 'address': 'India'}\n"
     ]
    }
   ],
   "source": [
    "student['age'] = 26 ## Updated value for the key\n",
    "print(student)\n",
    "student['address'] = 'India' ## Added new key-value pair\n",
    "print(student)"
   ]
  },
  {
   "cell_type": "code",
   "execution_count": 20,
   "metadata": {},
   "outputs": [
    {
     "name": "stdout",
     "output_type": "stream",
     "text": [
      "{'name': 'John', 'age': 26, 'address': 'India'}\n"
     ]
    }
   ],
   "source": [
    "del student['grade'] ## Deleted key-value pair\n",
    "print(student)"
   ]
  },
  {
   "cell_type": "code",
   "execution_count": 23,
   "metadata": {},
   "outputs": [
    {
     "name": "stdout",
     "output_type": "stream",
     "text": [
      "dict_keys(['name', 'age', 'address'])\n",
      "dict_values(['John', 26, 'India'])\n"
     ]
    }
   ],
   "source": [
    "## Dictionary methods\n",
    "## keys() - returns list of keys\n",
    "student_keys = student.keys() ## returns list of keys\n",
    "print(student_keys)\n",
    "student_values = student.values() ## returns list of values\n",
    "print(student_values)"
   ]
  },
  {
   "cell_type": "code",
   "execution_count": 24,
   "metadata": {},
   "outputs": [
    {
     "name": "stdout",
     "output_type": "stream",
     "text": [
      "dict_items([('name', 'John'), ('age', 26), ('address', 'India')])\n"
     ]
    }
   ],
   "source": [
    "items = student.items() ## returns list of key-value pairs\n",
    "print(items)"
   ]
  },
  {
   "cell_type": "code",
   "execution_count": null,
   "metadata": {},
   "outputs": [
    {
     "name": "stdout",
     "output_type": "stream",
     "text": [
      "{'name': 'John', 'age': 26, 'address': 'India'}\n",
      "{'name': 'John', 'age': 26, 'address': 'India'}\n",
      "{'name': 'Doe', 'age': 26, 'address': 'India'}\n",
      "{'name': 'Doe', 'age': 26, 'address': 'India'}\n"
     ]
    }
   ],
   "source": [
    "## Shallow copy of dictionary\n",
    "student_copy = student\n",
    "print(student)\n",
    "print(student_copy)\n",
    "student['name'] = 'Doe'\n",
    "print(student)\n",
    "print(student_copy)"
   ]
  },
  {
   "cell_type": "code",
   "execution_count": null,
   "metadata": {},
   "outputs": [
    {
     "name": "stdout",
     "output_type": "stream",
     "text": [
      "{'name': 'Doe', 'age': 26, 'address': 'India'}\n",
      "{'name': 'Doe', 'age': 26, 'address': 'India'}\n",
      "{'name': 'John', 'age': 26, 'address': 'India'}\n",
      "{'name': 'Doe', 'age': 26, 'address': 'India'}\n"
     ]
    }
   ],
   "source": [
    "## Deep copy of dictionary\n",
    "student_copy = student.copy()\n",
    "print(student)\n",
    "print(student_copy)\n",
    "student['name'] = 'John'\n",
    "print(student)\n",
    "print(student_copy)"
   ]
  },
  {
   "cell_type": "code",
   "execution_count": 28,
   "metadata": {},
   "outputs": [
    {
     "name": "stdout",
     "output_type": "stream",
     "text": [
      "name John\n",
      "age 26\n",
      "address India\n"
     ]
    }
   ],
   "source": [
    "## Iterating through dictionary\n",
    "## Iterating using loops to access key-value pairs\n",
    "\n",
    "## iterating through keys\n",
    "for key in student.keys():\n",
    "    print(key, student[key])"
   ]
  },
  {
   "cell_type": "code",
   "execution_count": 29,
   "metadata": {},
   "outputs": [
    {
     "name": "stdout",
     "output_type": "stream",
     "text": [
      "John\n",
      "26\n",
      "India\n"
     ]
    }
   ],
   "source": [
    "## Iterating through values\n",
    "for value in student.values():\n",
    "    print(value)"
   ]
  },
  {
   "cell_type": "code",
   "execution_count": 30,
   "metadata": {},
   "outputs": [
    {
     "name": "stdout",
     "output_type": "stream",
     "text": [
      "name John\n",
      "age 26\n",
      "address India\n"
     ]
    }
   ],
   "source": [
    "## Iterating through key-value pairs\n",
    "for key, value in student.items():\n",
    "    print(key, value)"
   ]
  },
  {
   "cell_type": "code",
   "execution_count": 33,
   "metadata": {},
   "outputs": [
    {
     "name": "stdout",
     "output_type": "stream",
     "text": [
      "{'student1': {'name': 'John', 'age': 25, 'grade': 'A'}, 'student2': {'name': 'Doe', 'age': 26, 'grade': 'B'}, 'student3': {'name': 'Smith', 'age': 27, 'grade': 'C'}}\n"
     ]
    }
   ],
   "source": [
    "## Nested dictionary\n",
    "students = {\n",
    "    'student1': {'name':'John', 'age':25, 'grade':'A'},\n",
    "    'student2': {'name':'Doe', 'age':26, 'grade':'B'},\n",
    "    'student3': {'name':'Smith', 'age':27, 'grade':'C'}\n",
    "}\n",
    "print(students)"
   ]
  },
  {
   "cell_type": "code",
   "execution_count": 36,
   "metadata": {},
   "outputs": [
    {
     "name": "stdout",
     "output_type": "stream",
     "text": [
      "name of student1 is John\n",
      "age of student2 is 26\n",
      "grade of student3 is C\n"
     ]
    }
   ],
   "source": [
    "## Accessing nested dictionary elements\n",
    "print(f'name of student1 is {students[\"student1\"][\"name\"]}')\n",
    "print(f'age of student2 is {students[\"student2\"][\"age\"]}')\n",
    "print(f'grade of student3 is {students[\"student3\"][\"grade\"]}')"
   ]
  },
  {
   "cell_type": "code",
   "execution_count": 37,
   "metadata": {},
   "outputs": [
    {
     "name": "stdout",
     "output_type": "stream",
     "text": [
      "\n",
      "Student ID: student1\n",
      "name : John\n",
      "age : 25\n",
      "grade : A\n",
      "\n",
      "Student ID: student2\n",
      "name : Doe\n",
      "age : 26\n",
      "grade : B\n",
      "\n",
      "Student ID: student3\n",
      "name : Smith\n",
      "age : 27\n",
      "grade : C\n"
     ]
    }
   ],
   "source": [
    "## Iterating through nested dictionary\n",
    "for student_id, student_info in students.items():\n",
    "    print(f'\\nStudent ID: {student_id}')\n",
    "    for key in student_info:\n",
    "        print(f'{key} : {student_info[key]}')"
   ]
  },
  {
   "cell_type": "code",
   "execution_count": 38,
   "metadata": {},
   "outputs": [
    {
     "name": "stdout",
     "output_type": "stream",
     "text": [
      "{0: 0, 1: 1, 2: 4, 3: 9, 4: 16, 5: 25}\n"
     ]
    }
   ],
   "source": [
    "## Dictionary comprehension\n",
    "## Dictionary comprehension is an elegant and concise way to create dictionaries\n",
    "## Dictionary comprehension is a method for transforming one dictionary into another dictionary\n",
    "squares = {x: x*x for x in range(6)}\n",
    "print(squares)"
   ]
  },
  {
   "cell_type": "code",
   "execution_count": 39,
   "metadata": {},
   "outputs": [
    {
     "name": "stdout",
     "output_type": "stream",
     "text": [
      "{1: 1, 3: 9, 5: 25, 7: 49, 9: 81}\n"
     ]
    }
   ],
   "source": [
    "## Conditonal dictionary comprehension\n",
    "odd_squares = {x: x*x for x in range(11) if x%2 == 1}\n",
    "print(odd_squares)"
   ]
  },
  {
   "cell_type": "code",
   "execution_count": 40,
   "metadata": {},
   "outputs": [
    {
     "name": "stdout",
     "output_type": "stream",
     "text": [
      "{'the': 2, 'quick': 1, 'brown': 1, 'fox': 1, 'jumps': 1, 'over': 1, 'lazy': 1, 'dog': 1}\n"
     ]
    }
   ],
   "source": [
    "## Practical examples\n",
    "## Use a dictionary to count freqency of words in a sentence\n",
    "sentence = 'the quick brown fox jumps over the lazy dog'\n",
    "word_freq = {}\n",
    "for word in sentence.split():\n",
    "    if word in word_freq:\n",
    "        word_freq[word] += 1\n",
    "    else:\n",
    "        word_freq[word] = 1\n",
    "print(word_freq)"
   ]
  },
  {
   "cell_type": "code",
   "execution_count": 42,
   "metadata": {},
   "outputs": [
    {
     "name": "stdout",
     "output_type": "stream",
     "text": [
      "{'a': 1, 'b': 2, 'c': 3, 'd': 4}\n"
     ]
    }
   ],
   "source": [
    "## merging two dictionaries\n",
    "dict1 = {'a':1, 'b':2}\n",
    "dict2 = {'c':3, 'd':4}\n",
    "merged_dict = {**dict1, **dict2}\n",
    "print(merged_dict)"
   ]
  }
 ],
 "metadata": {
  "kernelspec": {
   "display_name": "Python 3",
   "language": "python",
   "name": "python3"
  },
  "language_info": {
   "codemirror_mode": {
    "name": "ipython",
    "version": 3
   },
   "file_extension": ".py",
   "mimetype": "text/x-python",
   "name": "python",
   "nbconvert_exporter": "python",
   "pygments_lexer": "ipython3",
   "version": "3.12.9"
  }
 },
 "nbformat": 4,
 "nbformat_minor": 2
}
